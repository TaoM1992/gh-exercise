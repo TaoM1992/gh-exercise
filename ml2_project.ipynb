{
  "nbformat": 4,
  "nbformat_minor": 0,
  "metadata": {
    "colab": {
      "name": "ml2_project.ipynb",
      "provenance": [],
      "machine_shape": "hm",
      "authorship_tag": "ABX9TyO0lS+7hi4NWk78QhTwRwz5",
      "include_colab_link": true
    },
    "kernelspec": {
      "name": "python3",
      "display_name": "Python 3"
    },
    "language_info": {
      "name": "python"
    },
    "accelerator": "TPU"
  },
  "cells": [
    {
      "cell_type": "markdown",
      "metadata": {
        "id": "view-in-github",
        "colab_type": "text"
      },
      "source": [
        "<a href=\"https://colab.research.google.com/github/TaoM1992/gh-exercise/blob/master/ml2_project.ipynb\" target=\"_parent\"><img src=\"https://colab.research.google.com/assets/colab-badge.svg\" alt=\"Open In Colab\"/></a>"
      ]
    },
    {
      "cell_type": "code",
      "metadata": {
        "id": "fcQLcuppcUMw"
      },
      "source": [
        "import pandas as pd\n",
        "import numpy as np\n",
        "from sklearn.ensemble import GradientBoostingClassifier\n",
        "from sklearn.model_selection import train_test_split\n",
        "from sklearn.model_selection import GridSearchCV\n",
        "from sklearn.metrics import accuracy_score\n",
        "from sklearn.preprocessing import *\n",
        "from sklearn.impute import *\n",
        "from sklearn.compose import *\n",
        "from sklearn.pipeline import Pipeline\n",
        "from sklearn.decomposition import PCA\n",
        "from sklearn.inspection import permutation_importance"
      ],
      "execution_count": 49,
      "outputs": []
    },
    {
      "cell_type": "code",
      "metadata": {
        "id": "OH5HJnxwcdyg"
      },
      "source": [
        "data = pd.read_csv('train.zip')"
      ],
      "execution_count": 117,
      "outputs": []
    },
    {
      "cell_type": "code",
      "metadata": {
        "colab": {
          "base_uri": "https://localhost:8080/",
          "height": 244
        },
        "id": "9tU9C85f48SK",
        "outputId": "e04903de-6f8c-4d23-d28c-304f12c57f5e"
      },
      "source": [
        "data.head()"
      ],
      "execution_count": 118,
      "outputs": [
        {
          "output_type": "execute_result",
          "data": {
            "text/html": [
              "<div>\n",
              "<style scoped>\n",
              "    .dataframe tbody tr th:only-of-type {\n",
              "        vertical-align: middle;\n",
              "    }\n",
              "\n",
              "    .dataframe tbody tr th {\n",
              "        vertical-align: top;\n",
              "    }\n",
              "\n",
              "    .dataframe thead th {\n",
              "        text-align: right;\n",
              "    }\n",
              "</style>\n",
              "<table border=\"1\" class=\"dataframe\">\n",
              "  <thead>\n",
              "    <tr style=\"text-align: right;\">\n",
              "      <th></th>\n",
              "      <th>problem_id</th>\n",
              "      <th>v0</th>\n",
              "      <th>v1</th>\n",
              "      <th>v2</th>\n",
              "      <th>v3</th>\n",
              "      <th>v4</th>\n",
              "      <th>v5</th>\n",
              "      <th>v6</th>\n",
              "      <th>v7</th>\n",
              "      <th>v8</th>\n",
              "      <th>v9</th>\n",
              "      <th>v10</th>\n",
              "      <th>v11</th>\n",
              "      <th>v12</th>\n",
              "      <th>v13</th>\n",
              "      <th>v14</th>\n",
              "      <th>v15</th>\n",
              "      <th>v16</th>\n",
              "      <th>v17</th>\n",
              "      <th>v18</th>\n",
              "      <th>v19</th>\n",
              "      <th>v20</th>\n",
              "      <th>v21</th>\n",
              "      <th>v22</th>\n",
              "      <th>v23</th>\n",
              "      <th>v24</th>\n",
              "      <th>v25</th>\n",
              "      <th>v26</th>\n",
              "      <th>v27</th>\n",
              "      <th>v28</th>\n",
              "      <th>v29</th>\n",
              "      <th>v30</th>\n",
              "      <th>v31</th>\n",
              "      <th>v32</th>\n",
              "      <th>v33</th>\n",
              "      <th>v34</th>\n",
              "      <th>v35</th>\n",
              "      <th>v36</th>\n",
              "      <th>v37</th>\n",
              "      <th>v38</th>\n",
              "      <th>...</th>\n",
              "      <th>v939</th>\n",
              "      <th>v940</th>\n",
              "      <th>v941</th>\n",
              "      <th>v942</th>\n",
              "      <th>v943</th>\n",
              "      <th>v944</th>\n",
              "      <th>v945</th>\n",
              "      <th>v946</th>\n",
              "      <th>v947</th>\n",
              "      <th>v948</th>\n",
              "      <th>v949</th>\n",
              "      <th>v950</th>\n",
              "      <th>v951</th>\n",
              "      <th>v952</th>\n",
              "      <th>v953</th>\n",
              "      <th>v954</th>\n",
              "      <th>v955</th>\n",
              "      <th>v956</th>\n",
              "      <th>v957</th>\n",
              "      <th>v958</th>\n",
              "      <th>v959</th>\n",
              "      <th>v960</th>\n",
              "      <th>v961</th>\n",
              "      <th>v962</th>\n",
              "      <th>v963</th>\n",
              "      <th>v964</th>\n",
              "      <th>v965</th>\n",
              "      <th>v966</th>\n",
              "      <th>v967</th>\n",
              "      <th>v968</th>\n",
              "      <th>v969</th>\n",
              "      <th>v970</th>\n",
              "      <th>v971</th>\n",
              "      <th>v972</th>\n",
              "      <th>v973</th>\n",
              "      <th>v974</th>\n",
              "      <th>v975</th>\n",
              "      <th>v976</th>\n",
              "      <th>v977</th>\n",
              "      <th>target</th>\n",
              "    </tr>\n",
              "  </thead>\n",
              "  <tbody>\n",
              "    <tr>\n",
              "      <th>0</th>\n",
              "      <td>0</td>\n",
              "      <td>0.35</td>\n",
              "      <td>0.36</td>\n",
              "      <td>0.77</td>\n",
              "      <td>0.42</td>\n",
              "      <td>0.48</td>\n",
              "      <td>0.12</td>\n",
              "      <td>0.43</td>\n",
              "      <td>0.49</td>\n",
              "      <td>0.19</td>\n",
              "      <td>0.78</td>\n",
              "      <td>0.38</td>\n",
              "      <td>0.22</td>\n",
              "      <td>0.81</td>\n",
              "      <td>0.32</td>\n",
              "      <td>0.87</td>\n",
              "      <td>0.39</td>\n",
              "      <td>0.61</td>\n",
              "      <td>0.23</td>\n",
              "      <td>0.56</td>\n",
              "      <td>0.86</td>\n",
              "      <td>0.82</td>\n",
              "      <td>0.69</td>\n",
              "      <td>1.00</td>\n",
              "      <td>0.92</td>\n",
              "      <td>0.37</td>\n",
              "      <td>0.33</td>\n",
              "      <td>0.27</td>\n",
              "      <td>0.42</td>\n",
              "      <td>0.51</td>\n",
              "      <td>0.70</td>\n",
              "      <td>0.16</td>\n",
              "      <td>0.44</td>\n",
              "      <td>0.61</td>\n",
              "      <td>0.94</td>\n",
              "      <td>0.48</td>\n",
              "      <td>0.74</td>\n",
              "      <td>0.07</td>\n",
              "      <td>0.44</td>\n",
              "      <td>0.41</td>\n",
              "      <td>...</td>\n",
              "      <td>0.81</td>\n",
              "      <td>0.73</td>\n",
              "      <td>0.80</td>\n",
              "      <td>0.35</td>\n",
              "      <td>0.24</td>\n",
              "      <td>0.42</td>\n",
              "      <td>0.17</td>\n",
              "      <td>0.71</td>\n",
              "      <td>0.69</td>\n",
              "      <td>0.45</td>\n",
              "      <td>0.93</td>\n",
              "      <td>0.97</td>\n",
              "      <td>0.02</td>\n",
              "      <td>0.18</td>\n",
              "      <td>0.02</td>\n",
              "      <td>0.44</td>\n",
              "      <td>0.89</td>\n",
              "      <td>0.99</td>\n",
              "      <td>0.22</td>\n",
              "      <td>0.97</td>\n",
              "      <td>0.95</td>\n",
              "      <td>0.02</td>\n",
              "      <td>0.34</td>\n",
              "      <td>0.57</td>\n",
              "      <td>0.86</td>\n",
              "      <td>0.85</td>\n",
              "      <td>0.62</td>\n",
              "      <td>0.87</td>\n",
              "      <td>0.16</td>\n",
              "      <td>1.00</td>\n",
              "      <td>0.77</td>\n",
              "      <td>0.57</td>\n",
              "      <td>0.56</td>\n",
              "      <td>0.40</td>\n",
              "      <td>0.75</td>\n",
              "      <td>0.08</td>\n",
              "      <td>0.14</td>\n",
              "      <td>0.43</td>\n",
              "      <td>0.88</td>\n",
              "      <td>0</td>\n",
              "    </tr>\n",
              "    <tr>\n",
              "      <th>1</th>\n",
              "      <td>0</td>\n",
              "      <td>0.12</td>\n",
              "      <td>0.17</td>\n",
              "      <td>0.38</td>\n",
              "      <td>0.43</td>\n",
              "      <td>0.57</td>\n",
              "      <td>0.09</td>\n",
              "      <td>0.11</td>\n",
              "      <td>0.58</td>\n",
              "      <td>0.35</td>\n",
              "      <td>0.87</td>\n",
              "      <td>0.61</td>\n",
              "      <td>0.41</td>\n",
              "      <td>0.14</td>\n",
              "      <td>0.66</td>\n",
              "      <td>0.15</td>\n",
              "      <td>0.63</td>\n",
              "      <td>0.26</td>\n",
              "      <td>0.88</td>\n",
              "      <td>0.66</td>\n",
              "      <td>0.03</td>\n",
              "      <td>0.03</td>\n",
              "      <td>0.80</td>\n",
              "      <td>0.01</td>\n",
              "      <td>0.23</td>\n",
              "      <td>0.67</td>\n",
              "      <td>0.15</td>\n",
              "      <td>0.28</td>\n",
              "      <td>0.03</td>\n",
              "      <td>0.97</td>\n",
              "      <td>0.67</td>\n",
              "      <td>0.26</td>\n",
              "      <td>0.20</td>\n",
              "      <td>0.64</td>\n",
              "      <td>0.24</td>\n",
              "      <td>0.48</td>\n",
              "      <td>0.01</td>\n",
              "      <td>0.77</td>\n",
              "      <td>0.41</td>\n",
              "      <td>0.22</td>\n",
              "      <td>...</td>\n",
              "      <td>0.31</td>\n",
              "      <td>0.75</td>\n",
              "      <td>0.95</td>\n",
              "      <td>0.20</td>\n",
              "      <td>0.34</td>\n",
              "      <td>0.31</td>\n",
              "      <td>0.11</td>\n",
              "      <td>0.19</td>\n",
              "      <td>0.09</td>\n",
              "      <td>0.14</td>\n",
              "      <td>0.10</td>\n",
              "      <td>0.01</td>\n",
              "      <td>0.02</td>\n",
              "      <td>0.19</td>\n",
              "      <td>0.50</td>\n",
              "      <td>0.26</td>\n",
              "      <td>0.05</td>\n",
              "      <td>0.03</td>\n",
              "      <td>0.26</td>\n",
              "      <td>0.08</td>\n",
              "      <td>0.10</td>\n",
              "      <td>0.03</td>\n",
              "      <td>0.78</td>\n",
              "      <td>0.66</td>\n",
              "      <td>0.01</td>\n",
              "      <td>0.11</td>\n",
              "      <td>0.33</td>\n",
              "      <td>0.27</td>\n",
              "      <td>0.27</td>\n",
              "      <td>0.39</td>\n",
              "      <td>0.07</td>\n",
              "      <td>0.59</td>\n",
              "      <td>0.06</td>\n",
              "      <td>0.17</td>\n",
              "      <td>0.09</td>\n",
              "      <td>0.04</td>\n",
              "      <td>0.04</td>\n",
              "      <td>0.45</td>\n",
              "      <td>0.14</td>\n",
              "      <td>1</td>\n",
              "    </tr>\n",
              "    <tr>\n",
              "      <th>2</th>\n",
              "      <td>0</td>\n",
              "      <td>0.67</td>\n",
              "      <td>0.16</td>\n",
              "      <td>0.85</td>\n",
              "      <td>0.41</td>\n",
              "      <td>0.57</td>\n",
              "      <td>0.27</td>\n",
              "      <td>0.83</td>\n",
              "      <td>0.73</td>\n",
              "      <td>0.26</td>\n",
              "      <td>0.20</td>\n",
              "      <td>0.63</td>\n",
              "      <td>0.54</td>\n",
              "      <td>0.41</td>\n",
              "      <td>0.25</td>\n",
              "      <td>0.06</td>\n",
              "      <td>0.71</td>\n",
              "      <td>0.71</td>\n",
              "      <td>0.63</td>\n",
              "      <td>0.36</td>\n",
              "      <td>0.96</td>\n",
              "      <td>0.22</td>\n",
              "      <td>0.89</td>\n",
              "      <td>0.11</td>\n",
              "      <td>0.09</td>\n",
              "      <td>0.42</td>\n",
              "      <td>0.54</td>\n",
              "      <td>0.20</td>\n",
              "      <td>0.18</td>\n",
              "      <td>0.09</td>\n",
              "      <td>0.58</td>\n",
              "      <td>0.98</td>\n",
              "      <td>0.37</td>\n",
              "      <td>0.53</td>\n",
              "      <td>0.06</td>\n",
              "      <td>0.48</td>\n",
              "      <td>0.90</td>\n",
              "      <td>0.02</td>\n",
              "      <td>0.47</td>\n",
              "      <td>0.70</td>\n",
              "      <td>...</td>\n",
              "      <td>0.35</td>\n",
              "      <td>0.20</td>\n",
              "      <td>0.93</td>\n",
              "      <td>0.33</td>\n",
              "      <td>0.16</td>\n",
              "      <td>0.43</td>\n",
              "      <td>0.32</td>\n",
              "      <td>0.16</td>\n",
              "      <td>0.73</td>\n",
              "      <td>0.37</td>\n",
              "      <td>0.78</td>\n",
              "      <td>0.99</td>\n",
              "      <td>0.04</td>\n",
              "      <td>0.20</td>\n",
              "      <td>0.03</td>\n",
              "      <td>0.19</td>\n",
              "      <td>0.24</td>\n",
              "      <td>0.38</td>\n",
              "      <td>0.11</td>\n",
              "      <td>0.79</td>\n",
              "      <td>0.52</td>\n",
              "      <td>0.20</td>\n",
              "      <td>0.81</td>\n",
              "      <td>0.66</td>\n",
              "      <td>0.87</td>\n",
              "      <td>0.16</td>\n",
              "      <td>0.53</td>\n",
              "      <td>0.64</td>\n",
              "      <td>0.16</td>\n",
              "      <td>0.65</td>\n",
              "      <td>0.24</td>\n",
              "      <td>0.42</td>\n",
              "      <td>0.57</td>\n",
              "      <td>0.58</td>\n",
              "      <td>0.37</td>\n",
              "      <td>0.01</td>\n",
              "      <td>0.10</td>\n",
              "      <td>0.38</td>\n",
              "      <td>0.06</td>\n",
              "      <td>1</td>\n",
              "    </tr>\n",
              "    <tr>\n",
              "      <th>3</th>\n",
              "      <td>0</td>\n",
              "      <td>0.70</td>\n",
              "      <td>0.20</td>\n",
              "      <td>0.62</td>\n",
              "      <td>0.41</td>\n",
              "      <td>0.41</td>\n",
              "      <td>0.10</td>\n",
              "      <td>0.80</td>\n",
              "      <td>0.52</td>\n",
              "      <td>0.82</td>\n",
              "      <td>0.01</td>\n",
              "      <td>0.66</td>\n",
              "      <td>0.19</td>\n",
              "      <td>0.81</td>\n",
              "      <td>0.26</td>\n",
              "      <td>0.91</td>\n",
              "      <td>0.47</td>\n",
              "      <td>0.68</td>\n",
              "      <td>0.29</td>\n",
              "      <td>0.65</td>\n",
              "      <td>0.03</td>\n",
              "      <td>0.93</td>\n",
              "      <td>0.92</td>\n",
              "      <td>0.06</td>\n",
              "      <td>0.08</td>\n",
              "      <td>0.11</td>\n",
              "      <td>0.09</td>\n",
              "      <td>0.32</td>\n",
              "      <td>0.62</td>\n",
              "      <td>0.75</td>\n",
              "      <td>0.69</td>\n",
              "      <td>0.74</td>\n",
              "      <td>0.14</td>\n",
              "      <td>0.73</td>\n",
              "      <td>0.14</td>\n",
              "      <td>0.48</td>\n",
              "      <td>0.21</td>\n",
              "      <td>0.02</td>\n",
              "      <td>0.48</td>\n",
              "      <td>0.06</td>\n",
              "      <td>...</td>\n",
              "      <td>0.58</td>\n",
              "      <td>0.34</td>\n",
              "      <td>0.90</td>\n",
              "      <td>0.63</td>\n",
              "      <td>0.08</td>\n",
              "      <td>0.51</td>\n",
              "      <td>0.63</td>\n",
              "      <td>0.36</td>\n",
              "      <td>0.88</td>\n",
              "      <td>0.57</td>\n",
              "      <td>0.12</td>\n",
              "      <td>1.00</td>\n",
              "      <td>0.06</td>\n",
              "      <td>0.57</td>\n",
              "      <td>0.01</td>\n",
              "      <td>0.19</td>\n",
              "      <td>0.94</td>\n",
              "      <td>0.85</td>\n",
              "      <td>0.80</td>\n",
              "      <td>0.99</td>\n",
              "      <td>0.98</td>\n",
              "      <td>0.79</td>\n",
              "      <td>0.41</td>\n",
              "      <td>0.56</td>\n",
              "      <td>0.82</td>\n",
              "      <td>0.83</td>\n",
              "      <td>0.55</td>\n",
              "      <td>0.88</td>\n",
              "      <td>0.26</td>\n",
              "      <td>0.96</td>\n",
              "      <td>0.04</td>\n",
              "      <td>0.52</td>\n",
              "      <td>0.25</td>\n",
              "      <td>0.07</td>\n",
              "      <td>0.23</td>\n",
              "      <td>0.04</td>\n",
              "      <td>0.76</td>\n",
              "      <td>0.41</td>\n",
              "      <td>0.59</td>\n",
              "      <td>1</td>\n",
              "    </tr>\n",
              "    <tr>\n",
              "      <th>4</th>\n",
              "      <td>0</td>\n",
              "      <td>0.72</td>\n",
              "      <td>0.75</td>\n",
              "      <td>0.74</td>\n",
              "      <td>0.42</td>\n",
              "      <td>0.41</td>\n",
              "      <td>0.76</td>\n",
              "      <td>0.34</td>\n",
              "      <td>0.72</td>\n",
              "      <td>0.06</td>\n",
              "      <td>0.87</td>\n",
              "      <td>0.28</td>\n",
              "      <td>0.50</td>\n",
              "      <td>0.55</td>\n",
              "      <td>0.53</td>\n",
              "      <td>0.68</td>\n",
              "      <td>0.73</td>\n",
              "      <td>0.77</td>\n",
              "      <td>0.27</td>\n",
              "      <td>0.55</td>\n",
              "      <td>0.02</td>\n",
              "      <td>0.88</td>\n",
              "      <td>0.74</td>\n",
              "      <td>1.00</td>\n",
              "      <td>0.06</td>\n",
              "      <td>0.16</td>\n",
              "      <td>0.18</td>\n",
              "      <td>0.31</td>\n",
              "      <td>0.53</td>\n",
              "      <td>0.79</td>\n",
              "      <td>0.64</td>\n",
              "      <td>0.10</td>\n",
              "      <td>0.60</td>\n",
              "      <td>0.67</td>\n",
              "      <td>0.06</td>\n",
              "      <td>0.48</td>\n",
              "      <td>0.14</td>\n",
              "      <td>0.24</td>\n",
              "      <td>0.64</td>\n",
              "      <td>0.15</td>\n",
              "      <td>...</td>\n",
              "      <td>0.75</td>\n",
              "      <td>0.58</td>\n",
              "      <td>0.33</td>\n",
              "      <td>0.67</td>\n",
              "      <td>0.87</td>\n",
              "      <td>0.30</td>\n",
              "      <td>0.22</td>\n",
              "      <td>0.56</td>\n",
              "      <td>0.77</td>\n",
              "      <td>0.65</td>\n",
              "      <td>0.90</td>\n",
              "      <td>0.96</td>\n",
              "      <td>0.05</td>\n",
              "      <td>0.41</td>\n",
              "      <td>0.01</td>\n",
              "      <td>0.34</td>\n",
              "      <td>0.05</td>\n",
              "      <td>0.89</td>\n",
              "      <td>0.88</td>\n",
              "      <td>0.86</td>\n",
              "      <td>0.87</td>\n",
              "      <td>0.77</td>\n",
              "      <td>0.65</td>\n",
              "      <td>0.63</td>\n",
              "      <td>0.83</td>\n",
              "      <td>0.93</td>\n",
              "      <td>0.59</td>\n",
              "      <td>0.38</td>\n",
              "      <td>0.28</td>\n",
              "      <td>0.99</td>\n",
              "      <td>0.81</td>\n",
              "      <td>0.41</td>\n",
              "      <td>0.16</td>\n",
              "      <td>0.03</td>\n",
              "      <td>0.21</td>\n",
              "      <td>0.10</td>\n",
              "      <td>0.12</td>\n",
              "      <td>0.53</td>\n",
              "      <td>0.30</td>\n",
              "      <td>1</td>\n",
              "    </tr>\n",
              "  </tbody>\n",
              "</table>\n",
              "<p>5 rows × 980 columns</p>\n",
              "</div>"
            ],
            "text/plain": [
              "   problem_id    v0    v1    v2    v3  ...  v974  v975  v976  v977  target\n",
              "0           0  0.35  0.36  0.77  0.42  ...  0.08  0.14  0.43  0.88       0\n",
              "1           0  0.12  0.17  0.38  0.43  ...  0.04  0.04  0.45  0.14       1\n",
              "2           0  0.67  0.16  0.85  0.41  ...  0.01  0.10  0.38  0.06       1\n",
              "3           0  0.70  0.20  0.62  0.41  ...  0.04  0.76  0.41  0.59       1\n",
              "4           0  0.72  0.75  0.74  0.42  ...  0.10  0.12  0.53  0.30       1\n",
              "\n",
              "[5 rows x 980 columns]"
            ]
          },
          "metadata": {
            "tags": []
          },
          "execution_count": 118
        }
      ]
    },
    {
      "cell_type": "markdown",
      "metadata": {
        "id": "OdfelIEn7vbj"
      },
      "source": [
        "### EDA"
      ]
    },
    {
      "cell_type": "code",
      "metadata": {
        "colab": {
          "base_uri": "https://localhost:8080/",
          "height": 333
        },
        "id": "dmTNrjUt7tWL",
        "outputId": "752a3769-b9ff-456a-95ee-fd2d05498adb"
      },
      "source": [
        "data.describe()"
      ],
      "execution_count": 4,
      "outputs": [
        {
          "output_type": "execute_result",
          "data": {
            "text/html": [
              "<div>\n",
              "<style scoped>\n",
              "    .dataframe tbody tr th:only-of-type {\n",
              "        vertical-align: middle;\n",
              "    }\n",
              "\n",
              "    .dataframe tbody tr th {\n",
              "        vertical-align: top;\n",
              "    }\n",
              "\n",
              "    .dataframe thead th {\n",
              "        text-align: right;\n",
              "    }\n",
              "</style>\n",
              "<table border=\"1\" class=\"dataframe\">\n",
              "  <thead>\n",
              "    <tr style=\"text-align: right;\">\n",
              "      <th></th>\n",
              "      <th>problem_id</th>\n",
              "      <th>v0</th>\n",
              "      <th>v1</th>\n",
              "      <th>v2</th>\n",
              "      <th>v3</th>\n",
              "      <th>v4</th>\n",
              "      <th>v5</th>\n",
              "      <th>v6</th>\n",
              "      <th>v7</th>\n",
              "      <th>v8</th>\n",
              "      <th>v9</th>\n",
              "      <th>v10</th>\n",
              "      <th>v11</th>\n",
              "      <th>v12</th>\n",
              "      <th>v13</th>\n",
              "      <th>v14</th>\n",
              "      <th>v15</th>\n",
              "      <th>v16</th>\n",
              "      <th>v17</th>\n",
              "      <th>v18</th>\n",
              "      <th>v19</th>\n",
              "      <th>v20</th>\n",
              "      <th>v21</th>\n",
              "      <th>v22</th>\n",
              "      <th>v23</th>\n",
              "      <th>v24</th>\n",
              "      <th>v25</th>\n",
              "      <th>v26</th>\n",
              "      <th>v27</th>\n",
              "      <th>v28</th>\n",
              "      <th>v29</th>\n",
              "      <th>v30</th>\n",
              "      <th>v31</th>\n",
              "      <th>v32</th>\n",
              "      <th>v33</th>\n",
              "      <th>v34</th>\n",
              "      <th>v35</th>\n",
              "      <th>v36</th>\n",
              "      <th>v37</th>\n",
              "      <th>v38</th>\n",
              "      <th>...</th>\n",
              "      <th>v939</th>\n",
              "      <th>v940</th>\n",
              "      <th>v941</th>\n",
              "      <th>v942</th>\n",
              "      <th>v943</th>\n",
              "      <th>v944</th>\n",
              "      <th>v945</th>\n",
              "      <th>v946</th>\n",
              "      <th>v947</th>\n",
              "      <th>v948</th>\n",
              "      <th>v949</th>\n",
              "      <th>v950</th>\n",
              "      <th>v951</th>\n",
              "      <th>v952</th>\n",
              "      <th>v953</th>\n",
              "      <th>v954</th>\n",
              "      <th>v955</th>\n",
              "      <th>v956</th>\n",
              "      <th>v957</th>\n",
              "      <th>v958</th>\n",
              "      <th>v959</th>\n",
              "      <th>v960</th>\n",
              "      <th>v961</th>\n",
              "      <th>v962</th>\n",
              "      <th>v963</th>\n",
              "      <th>v964</th>\n",
              "      <th>v965</th>\n",
              "      <th>v966</th>\n",
              "      <th>v967</th>\n",
              "      <th>v968</th>\n",
              "      <th>v969</th>\n",
              "      <th>v970</th>\n",
              "      <th>v971</th>\n",
              "      <th>v972</th>\n",
              "      <th>v973</th>\n",
              "      <th>v974</th>\n",
              "      <th>v975</th>\n",
              "      <th>v976</th>\n",
              "      <th>v977</th>\n",
              "      <th>target</th>\n",
              "    </tr>\n",
              "  </thead>\n",
              "  <tbody>\n",
              "    <tr>\n",
              "      <th>count</th>\n",
              "      <td>8302.000000</td>\n",
              "      <td>8302.000000</td>\n",
              "      <td>8302.000000</td>\n",
              "      <td>8302.000000</td>\n",
              "      <td>8302.000000</td>\n",
              "      <td>8302.000000</td>\n",
              "      <td>8302.000000</td>\n",
              "      <td>8302.000000</td>\n",
              "      <td>8302.000000</td>\n",
              "      <td>8302.000000</td>\n",
              "      <td>8302.000000</td>\n",
              "      <td>8302.000000</td>\n",
              "      <td>8302.000000</td>\n",
              "      <td>8302.000000</td>\n",
              "      <td>8302.000000</td>\n",
              "      <td>8302.000000</td>\n",
              "      <td>8302.000000</td>\n",
              "      <td>8302.000000</td>\n",
              "      <td>8302.000000</td>\n",
              "      <td>8302.000000</td>\n",
              "      <td>8302.000000</td>\n",
              "      <td>8302.000000</td>\n",
              "      <td>8302.000000</td>\n",
              "      <td>8302.000000</td>\n",
              "      <td>8302.000000</td>\n",
              "      <td>8302.000000</td>\n",
              "      <td>8302.000000</td>\n",
              "      <td>8302.000000</td>\n",
              "      <td>8302.000000</td>\n",
              "      <td>8302.000000</td>\n",
              "      <td>8302.000000</td>\n",
              "      <td>8302.000000</td>\n",
              "      <td>8302.000000</td>\n",
              "      <td>8302.000000</td>\n",
              "      <td>8302.000000</td>\n",
              "      <td>8302.000000</td>\n",
              "      <td>8302.000000</td>\n",
              "      <td>8302.000000</td>\n",
              "      <td>8302.000000</td>\n",
              "      <td>8302.000000</td>\n",
              "      <td>...</td>\n",
              "      <td>8302.000000</td>\n",
              "      <td>8302.000000</td>\n",
              "      <td>8302.000000</td>\n",
              "      <td>8302.000000</td>\n",
              "      <td>8302.000000</td>\n",
              "      <td>8302.000000</td>\n",
              "      <td>8302.000000</td>\n",
              "      <td>8302.000000</td>\n",
              "      <td>8302.000000</td>\n",
              "      <td>8302.000000</td>\n",
              "      <td>8302.000000</td>\n",
              "      <td>8302.000000</td>\n",
              "      <td>8302.000000</td>\n",
              "      <td>8302.000000</td>\n",
              "      <td>8302.000000</td>\n",
              "      <td>8302.000000</td>\n",
              "      <td>8302.000000</td>\n",
              "      <td>8302.000000</td>\n",
              "      <td>8302.000000</td>\n",
              "      <td>8302.000000</td>\n",
              "      <td>8302.000000</td>\n",
              "      <td>8302.000000</td>\n",
              "      <td>8302.000000</td>\n",
              "      <td>8302.000000</td>\n",
              "      <td>8302.000000</td>\n",
              "      <td>8302.000000</td>\n",
              "      <td>8302.000000</td>\n",
              "      <td>8302.000000</td>\n",
              "      <td>8302.000000</td>\n",
              "      <td>8302.000000</td>\n",
              "      <td>8302.000000</td>\n",
              "      <td>8302.000000</td>\n",
              "      <td>8302.000000</td>\n",
              "      <td>8302.000000</td>\n",
              "      <td>8302.000000</td>\n",
              "      <td>8302.000000</td>\n",
              "      <td>8302.000000</td>\n",
              "      <td>8302.000000</td>\n",
              "      <td>8302.000000</td>\n",
              "      <td>8302.000000</td>\n",
              "    </tr>\n",
              "    <tr>\n",
              "      <th>mean</th>\n",
              "      <td>10.340520</td>\n",
              "      <td>0.503570</td>\n",
              "      <td>0.502644</td>\n",
              "      <td>0.498356</td>\n",
              "      <td>0.505302</td>\n",
              "      <td>0.524481</td>\n",
              "      <td>0.509112</td>\n",
              "      <td>0.515471</td>\n",
              "      <td>0.501418</td>\n",
              "      <td>0.502067</td>\n",
              "      <td>0.508455</td>\n",
              "      <td>0.508628</td>\n",
              "      <td>0.503551</td>\n",
              "      <td>0.522857</td>\n",
              "      <td>0.513729</td>\n",
              "      <td>0.504331</td>\n",
              "      <td>0.500944</td>\n",
              "      <td>0.504099</td>\n",
              "      <td>0.503487</td>\n",
              "      <td>0.507472</td>\n",
              "      <td>0.505976</td>\n",
              "      <td>0.507056</td>\n",
              "      <td>0.497909</td>\n",
              "      <td>0.502781</td>\n",
              "      <td>0.510805</td>\n",
              "      <td>0.496324</td>\n",
              "      <td>0.495556</td>\n",
              "      <td>0.499857</td>\n",
              "      <td>0.505316</td>\n",
              "      <td>0.510243</td>\n",
              "      <td>0.499392</td>\n",
              "      <td>0.501517</td>\n",
              "      <td>0.511441</td>\n",
              "      <td>0.500809</td>\n",
              "      <td>0.498538</td>\n",
              "      <td>0.499953</td>\n",
              "      <td>0.500846</td>\n",
              "      <td>0.507916</td>\n",
              "      <td>0.494775</td>\n",
              "      <td>0.503457</td>\n",
              "      <td>...</td>\n",
              "      <td>0.504060</td>\n",
              "      <td>0.500855</td>\n",
              "      <td>0.517391</td>\n",
              "      <td>0.498129</td>\n",
              "      <td>0.510248</td>\n",
              "      <td>0.515057</td>\n",
              "      <td>0.521003</td>\n",
              "      <td>0.511013</td>\n",
              "      <td>0.507489</td>\n",
              "      <td>0.503304</td>\n",
              "      <td>0.507772</td>\n",
              "      <td>0.506633</td>\n",
              "      <td>0.503946</td>\n",
              "      <td>0.506692</td>\n",
              "      <td>0.506509</td>\n",
              "      <td>0.504409</td>\n",
              "      <td>0.496615</td>\n",
              "      <td>0.517257</td>\n",
              "      <td>0.500699</td>\n",
              "      <td>0.513926</td>\n",
              "      <td>0.508292</td>\n",
              "      <td>0.500965</td>\n",
              "      <td>0.498086</td>\n",
              "      <td>0.504705</td>\n",
              "      <td>0.513251</td>\n",
              "      <td>0.499975</td>\n",
              "      <td>0.505491</td>\n",
              "      <td>0.508988</td>\n",
              "      <td>0.501020</td>\n",
              "      <td>0.507587</td>\n",
              "      <td>0.513447</td>\n",
              "      <td>0.504952</td>\n",
              "      <td>0.506437</td>\n",
              "      <td>0.495670</td>\n",
              "      <td>0.498960</td>\n",
              "      <td>0.517119</td>\n",
              "      <td>0.503209</td>\n",
              "      <td>0.501382</td>\n",
              "      <td>0.506916</td>\n",
              "      <td>0.659359</td>\n",
              "    </tr>\n",
              "    <tr>\n",
              "      <th>std</th>\n",
              "      <td>6.183559</td>\n",
              "      <td>0.267315</td>\n",
              "      <td>0.271960</td>\n",
              "      <td>0.273268</td>\n",
              "      <td>0.273052</td>\n",
              "      <td>0.363815</td>\n",
              "      <td>0.326855</td>\n",
              "      <td>0.319661</td>\n",
              "      <td>0.248639</td>\n",
              "      <td>0.312049</td>\n",
              "      <td>0.343824</td>\n",
              "      <td>0.352683</td>\n",
              "      <td>0.326892</td>\n",
              "      <td>0.330060</td>\n",
              "      <td>0.325781</td>\n",
              "      <td>0.249905</td>\n",
              "      <td>0.252319</td>\n",
              "      <td>0.228804</td>\n",
              "      <td>0.286075</td>\n",
              "      <td>0.287020</td>\n",
              "      <td>0.317533</td>\n",
              "      <td>0.275351</td>\n",
              "      <td>0.245943</td>\n",
              "      <td>0.311828</td>\n",
              "      <td>0.305258</td>\n",
              "      <td>0.271317</td>\n",
              "      <td>0.225880</td>\n",
              "      <td>0.219016</td>\n",
              "      <td>0.288524</td>\n",
              "      <td>0.333755</td>\n",
              "      <td>0.281109</td>\n",
              "      <td>0.299889</td>\n",
              "      <td>0.265093</td>\n",
              "      <td>0.272141</td>\n",
              "      <td>0.283707</td>\n",
              "      <td>0.295192</td>\n",
              "      <td>0.286205</td>\n",
              "      <td>0.311652</td>\n",
              "      <td>0.274326</td>\n",
              "      <td>0.292269</td>\n",
              "      <td>...</td>\n",
              "      <td>0.296189</td>\n",
              "      <td>0.304701</td>\n",
              "      <td>0.355838</td>\n",
              "      <td>0.268918</td>\n",
              "      <td>0.317842</td>\n",
              "      <td>0.306316</td>\n",
              "      <td>0.317508</td>\n",
              "      <td>0.335985</td>\n",
              "      <td>0.315008</td>\n",
              "      <td>0.284774</td>\n",
              "      <td>0.320874</td>\n",
              "      <td>0.322537</td>\n",
              "      <td>0.285278</td>\n",
              "      <td>0.328904</td>\n",
              "      <td>0.334018</td>\n",
              "      <td>0.239582</td>\n",
              "      <td>0.305747</td>\n",
              "      <td>0.377786</td>\n",
              "      <td>0.315483</td>\n",
              "      <td>0.304076</td>\n",
              "      <td>0.321097</td>\n",
              "      <td>0.256503</td>\n",
              "      <td>0.288095</td>\n",
              "      <td>0.305139</td>\n",
              "      <td>0.330490</td>\n",
              "      <td>0.227577</td>\n",
              "      <td>0.276869</td>\n",
              "      <td>0.305742</td>\n",
              "      <td>0.290328</td>\n",
              "      <td>0.297883</td>\n",
              "      <td>0.335301</td>\n",
              "      <td>0.314542</td>\n",
              "      <td>0.285526</td>\n",
              "      <td>0.295917</td>\n",
              "      <td>0.252681</td>\n",
              "      <td>0.276100</td>\n",
              "      <td>0.308813</td>\n",
              "      <td>0.278673</td>\n",
              "      <td>0.294042</td>\n",
              "      <td>0.782339</td>\n",
              "    </tr>\n",
              "    <tr>\n",
              "      <th>min</th>\n",
              "      <td>0.000000</td>\n",
              "      <td>0.010000</td>\n",
              "      <td>0.010000</td>\n",
              "      <td>0.010000</td>\n",
              "      <td>0.010000</td>\n",
              "      <td>0.010000</td>\n",
              "      <td>0.010000</td>\n",
              "      <td>0.010000</td>\n",
              "      <td>0.010000</td>\n",
              "      <td>0.010000</td>\n",
              "      <td>0.010000</td>\n",
              "      <td>0.010000</td>\n",
              "      <td>0.010000</td>\n",
              "      <td>0.010000</td>\n",
              "      <td>0.010000</td>\n",
              "      <td>0.010000</td>\n",
              "      <td>0.010000</td>\n",
              "      <td>0.010000</td>\n",
              "      <td>0.010000</td>\n",
              "      <td>0.000000</td>\n",
              "      <td>0.010000</td>\n",
              "      <td>0.010000</td>\n",
              "      <td>0.010000</td>\n",
              "      <td>0.010000</td>\n",
              "      <td>0.010000</td>\n",
              "      <td>0.010000</td>\n",
              "      <td>0.010000</td>\n",
              "      <td>0.010000</td>\n",
              "      <td>0.010000</td>\n",
              "      <td>0.010000</td>\n",
              "      <td>0.000000</td>\n",
              "      <td>0.010000</td>\n",
              "      <td>0.010000</td>\n",
              "      <td>0.010000</td>\n",
              "      <td>0.010000</td>\n",
              "      <td>0.010000</td>\n",
              "      <td>0.010000</td>\n",
              "      <td>0.010000</td>\n",
              "      <td>0.010000</td>\n",
              "      <td>0.010000</td>\n",
              "      <td>...</td>\n",
              "      <td>0.010000</td>\n",
              "      <td>0.010000</td>\n",
              "      <td>0.010000</td>\n",
              "      <td>0.010000</td>\n",
              "      <td>0.010000</td>\n",
              "      <td>0.010000</td>\n",
              "      <td>0.010000</td>\n",
              "      <td>0.010000</td>\n",
              "      <td>0.010000</td>\n",
              "      <td>0.010000</td>\n",
              "      <td>0.010000</td>\n",
              "      <td>0.010000</td>\n",
              "      <td>0.010000</td>\n",
              "      <td>0.010000</td>\n",
              "      <td>0.010000</td>\n",
              "      <td>0.010000</td>\n",
              "      <td>0.010000</td>\n",
              "      <td>0.010000</td>\n",
              "      <td>0.010000</td>\n",
              "      <td>0.010000</td>\n",
              "      <td>0.010000</td>\n",
              "      <td>0.010000</td>\n",
              "      <td>0.010000</td>\n",
              "      <td>0.010000</td>\n",
              "      <td>0.010000</td>\n",
              "      <td>0.010000</td>\n",
              "      <td>0.010000</td>\n",
              "      <td>0.010000</td>\n",
              "      <td>0.010000</td>\n",
              "      <td>0.010000</td>\n",
              "      <td>0.010000</td>\n",
              "      <td>0.010000</td>\n",
              "      <td>0.010000</td>\n",
              "      <td>0.010000</td>\n",
              "      <td>0.010000</td>\n",
              "      <td>0.010000</td>\n",
              "      <td>0.010000</td>\n",
              "      <td>0.010000</td>\n",
              "      <td>0.010000</td>\n",
              "      <td>0.000000</td>\n",
              "    </tr>\n",
              "    <tr>\n",
              "      <th>25%</th>\n",
              "      <td>5.000000</td>\n",
              "      <td>0.290000</td>\n",
              "      <td>0.280000</td>\n",
              "      <td>0.270000</td>\n",
              "      <td>0.280000</td>\n",
              "      <td>0.140000</td>\n",
              "      <td>0.200000</td>\n",
              "      <td>0.220000</td>\n",
              "      <td>0.300000</td>\n",
              "      <td>0.210000</td>\n",
              "      <td>0.170000</td>\n",
              "      <td>0.150000</td>\n",
              "      <td>0.190000</td>\n",
              "      <td>0.210000</td>\n",
              "      <td>0.190000</td>\n",
              "      <td>0.320000</td>\n",
              "      <td>0.300000</td>\n",
              "      <td>0.310000</td>\n",
              "      <td>0.240000</td>\n",
              "      <td>0.270000</td>\n",
              "      <td>0.210000</td>\n",
              "      <td>0.270000</td>\n",
              "      <td>0.320000</td>\n",
              "      <td>0.220000</td>\n",
              "      <td>0.220000</td>\n",
              "      <td>0.270000</td>\n",
              "      <td>0.330000</td>\n",
              "      <td>0.320000</td>\n",
              "      <td>0.270000</td>\n",
              "      <td>0.190000</td>\n",
              "      <td>0.280000</td>\n",
              "      <td>0.240000</td>\n",
              "      <td>0.290000</td>\n",
              "      <td>0.270000</td>\n",
              "      <td>0.240000</td>\n",
              "      <td>0.240000</td>\n",
              "      <td>0.250000</td>\n",
              "      <td>0.220000</td>\n",
              "      <td>0.270000</td>\n",
              "      <td>0.240000</td>\n",
              "      <td>...</td>\n",
              "      <td>0.230000</td>\n",
              "      <td>0.220000</td>\n",
              "      <td>0.160000</td>\n",
              "      <td>0.280000</td>\n",
              "      <td>0.200000</td>\n",
              "      <td>0.260000</td>\n",
              "      <td>0.230000</td>\n",
              "      <td>0.170000</td>\n",
              "      <td>0.210000</td>\n",
              "      <td>0.250000</td>\n",
              "      <td>0.190000</td>\n",
              "      <td>0.200000</td>\n",
              "      <td>0.260000</td>\n",
              "      <td>0.180000</td>\n",
              "      <td>0.180000</td>\n",
              "      <td>0.320000</td>\n",
              "      <td>0.230000</td>\n",
              "      <td>0.120000</td>\n",
              "      <td>0.220000</td>\n",
              "      <td>0.250000</td>\n",
              "      <td>0.200000</td>\n",
              "      <td>0.300000</td>\n",
              "      <td>0.240000</td>\n",
              "      <td>0.230000</td>\n",
              "      <td>0.190000</td>\n",
              "      <td>0.320000</td>\n",
              "      <td>0.270000</td>\n",
              "      <td>0.230000</td>\n",
              "      <td>0.240000</td>\n",
              "      <td>0.260000</td>\n",
              "      <td>0.180000</td>\n",
              "      <td>0.220000</td>\n",
              "      <td>0.250000</td>\n",
              "      <td>0.230000</td>\n",
              "      <td>0.300000</td>\n",
              "      <td>0.290000</td>\n",
              "      <td>0.210000</td>\n",
              "      <td>0.270000</td>\n",
              "      <td>0.240000</td>\n",
              "      <td>0.000000</td>\n",
              "    </tr>\n",
              "    <tr>\n",
              "      <th>50%</th>\n",
              "      <td>11.000000</td>\n",
              "      <td>0.510000</td>\n",
              "      <td>0.510000</td>\n",
              "      <td>0.500000</td>\n",
              "      <td>0.500000</td>\n",
              "      <td>0.540000</td>\n",
              "      <td>0.520000</td>\n",
              "      <td>0.555000</td>\n",
              "      <td>0.510000</td>\n",
              "      <td>0.500000</td>\n",
              "      <td>0.530000</td>\n",
              "      <td>0.520000</td>\n",
              "      <td>0.500000</td>\n",
              "      <td>0.560000</td>\n",
              "      <td>0.540000</td>\n",
              "      <td>0.510000</td>\n",
              "      <td>0.510000</td>\n",
              "      <td>0.510000</td>\n",
              "      <td>0.510000</td>\n",
              "      <td>0.500000</td>\n",
              "      <td>0.490000</td>\n",
              "      <td>0.520000</td>\n",
              "      <td>0.490000</td>\n",
              "      <td>0.500000</td>\n",
              "      <td>0.510000</td>\n",
              "      <td>0.480000</td>\n",
              "      <td>0.490000</td>\n",
              "      <td>0.510000</td>\n",
              "      <td>0.510000</td>\n",
              "      <td>0.540000</td>\n",
              "      <td>0.490000</td>\n",
              "      <td>0.500000</td>\n",
              "      <td>0.540000</td>\n",
              "      <td>0.490000</td>\n",
              "      <td>0.500000</td>\n",
              "      <td>0.480000</td>\n",
              "      <td>0.510000</td>\n",
              "      <td>0.520000</td>\n",
              "      <td>0.480000</td>\n",
              "      <td>0.510000</td>\n",
              "      <td>...</td>\n",
              "      <td>0.500000</td>\n",
              "      <td>0.490000</td>\n",
              "      <td>0.550000</td>\n",
              "      <td>0.490000</td>\n",
              "      <td>0.540000</td>\n",
              "      <td>0.520000</td>\n",
              "      <td>0.540000</td>\n",
              "      <td>0.520000</td>\n",
              "      <td>0.520000</td>\n",
              "      <td>0.510000</td>\n",
              "      <td>0.530000</td>\n",
              "      <td>0.500000</td>\n",
              "      <td>0.500000</td>\n",
              "      <td>0.510000</td>\n",
              "      <td>0.500000</td>\n",
              "      <td>0.510000</td>\n",
              "      <td>0.480000</td>\n",
              "      <td>0.590000</td>\n",
              "      <td>0.490000</td>\n",
              "      <td>0.545000</td>\n",
              "      <td>0.510000</td>\n",
              "      <td>0.510000</td>\n",
              "      <td>0.490000</td>\n",
              "      <td>0.540000</td>\n",
              "      <td>0.540000</td>\n",
              "      <td>0.500000</td>\n",
              "      <td>0.510000</td>\n",
              "      <td>0.520000</td>\n",
              "      <td>0.500000</td>\n",
              "      <td>0.520000</td>\n",
              "      <td>0.540000</td>\n",
              "      <td>0.510000</td>\n",
              "      <td>0.510000</td>\n",
              "      <td>0.460000</td>\n",
              "      <td>0.500000</td>\n",
              "      <td>0.530000</td>\n",
              "      <td>0.500000</td>\n",
              "      <td>0.500000</td>\n",
              "      <td>0.520000</td>\n",
              "      <td>1.000000</td>\n",
              "    </tr>\n",
              "    <tr>\n",
              "      <th>75%</th>\n",
              "      <td>16.000000</td>\n",
              "      <td>0.710000</td>\n",
              "      <td>0.730000</td>\n",
              "      <td>0.720000</td>\n",
              "      <td>0.750000</td>\n",
              "      <td>0.890000</td>\n",
              "      <td>0.830000</td>\n",
              "      <td>0.800000</td>\n",
              "      <td>0.700000</td>\n",
              "      <td>0.790000</td>\n",
              "      <td>0.850000</td>\n",
              "      <td>0.870000</td>\n",
              "      <td>0.820000</td>\n",
              "      <td>0.830000</td>\n",
              "      <td>0.830000</td>\n",
              "      <td>0.700000</td>\n",
              "      <td>0.700000</td>\n",
              "      <td>0.700000</td>\n",
              "      <td>0.760000</td>\n",
              "      <td>0.750000</td>\n",
              "      <td>0.800000</td>\n",
              "      <td>0.750000</td>\n",
              "      <td>0.680000</td>\n",
              "      <td>0.800000</td>\n",
              "      <td>0.800000</td>\n",
              "      <td>0.710000</td>\n",
              "      <td>0.650000</td>\n",
              "      <td>0.670000</td>\n",
              "      <td>0.750000</td>\n",
              "      <td>0.820000</td>\n",
              "      <td>0.710000</td>\n",
              "      <td>0.770000</td>\n",
              "      <td>0.720000</td>\n",
              "      <td>0.740000</td>\n",
              "      <td>0.750000</td>\n",
              "      <td>0.760000</td>\n",
              "      <td>0.740000</td>\n",
              "      <td>0.790000</td>\n",
              "      <td>0.730000</td>\n",
              "      <td>0.770000</td>\n",
              "      <td>...</td>\n",
              "      <td>0.780000</td>\n",
              "      <td>0.780000</td>\n",
              "      <td>0.880000</td>\n",
              "      <td>0.720000</td>\n",
              "      <td>0.810000</td>\n",
              "      <td>0.790000</td>\n",
              "      <td>0.820000</td>\n",
              "      <td>0.850000</td>\n",
              "      <td>0.800000</td>\n",
              "      <td>0.750000</td>\n",
              "      <td>0.820000</td>\n",
              "      <td>0.810000</td>\n",
              "      <td>0.750000</td>\n",
              "      <td>0.820000</td>\n",
              "      <td>0.830000</td>\n",
              "      <td>0.700000</td>\n",
              "      <td>0.750000</td>\n",
              "      <td>0.900000</td>\n",
              "      <td>0.790000</td>\n",
              "      <td>0.770000</td>\n",
              "      <td>0.820000</td>\n",
              "      <td>0.700000</td>\n",
              "      <td>0.760000</td>\n",
              "      <td>0.760000</td>\n",
              "      <td>0.830000</td>\n",
              "      <td>0.680000</td>\n",
              "      <td>0.730000</td>\n",
              "      <td>0.790000</td>\n",
              "      <td>0.750000</td>\n",
              "      <td>0.760000</td>\n",
              "      <td>0.840000</td>\n",
              "      <td>0.800000</td>\n",
              "      <td>0.770000</td>\n",
              "      <td>0.770000</td>\n",
              "      <td>0.680000</td>\n",
              "      <td>0.750000</td>\n",
              "      <td>0.790000</td>\n",
              "      <td>0.730000</td>\n",
              "      <td>0.770000</td>\n",
              "      <td>1.000000</td>\n",
              "    </tr>\n",
              "    <tr>\n",
              "      <th>max</th>\n",
              "      <td>20.000000</td>\n",
              "      <td>1.000000</td>\n",
              "      <td>1.000000</td>\n",
              "      <td>1.000000</td>\n",
              "      <td>1.000000</td>\n",
              "      <td>1.000000</td>\n",
              "      <td>1.000000</td>\n",
              "      <td>1.000000</td>\n",
              "      <td>1.000000</td>\n",
              "      <td>1.000000</td>\n",
              "      <td>1.000000</td>\n",
              "      <td>1.000000</td>\n",
              "      <td>1.000000</td>\n",
              "      <td>1.000000</td>\n",
              "      <td>1.000000</td>\n",
              "      <td>1.000000</td>\n",
              "      <td>1.000000</td>\n",
              "      <td>1.000000</td>\n",
              "      <td>1.000000</td>\n",
              "      <td>1.000000</td>\n",
              "      <td>1.000000</td>\n",
              "      <td>1.000000</td>\n",
              "      <td>1.000000</td>\n",
              "      <td>1.000000</td>\n",
              "      <td>1.000000</td>\n",
              "      <td>1.000000</td>\n",
              "      <td>1.000000</td>\n",
              "      <td>1.000000</td>\n",
              "      <td>1.000000</td>\n",
              "      <td>1.000000</td>\n",
              "      <td>1.000000</td>\n",
              "      <td>1.000000</td>\n",
              "      <td>1.000000</td>\n",
              "      <td>1.000000</td>\n",
              "      <td>1.000000</td>\n",
              "      <td>1.000000</td>\n",
              "      <td>1.000000</td>\n",
              "      <td>1.000000</td>\n",
              "      <td>1.000000</td>\n",
              "      <td>1.000000</td>\n",
              "      <td>...</td>\n",
              "      <td>1.000000</td>\n",
              "      <td>1.000000</td>\n",
              "      <td>1.000000</td>\n",
              "      <td>1.000000</td>\n",
              "      <td>1.000000</td>\n",
              "      <td>1.000000</td>\n",
              "      <td>1.000000</td>\n",
              "      <td>1.000000</td>\n",
              "      <td>1.000000</td>\n",
              "      <td>1.000000</td>\n",
              "      <td>1.000000</td>\n",
              "      <td>1.000000</td>\n",
              "      <td>1.000000</td>\n",
              "      <td>1.000000</td>\n",
              "      <td>1.000000</td>\n",
              "      <td>1.000000</td>\n",
              "      <td>1.000000</td>\n",
              "      <td>1.000000</td>\n",
              "      <td>1.000000</td>\n",
              "      <td>1.000000</td>\n",
              "      <td>1.000000</td>\n",
              "      <td>1.000000</td>\n",
              "      <td>1.000000</td>\n",
              "      <td>1.000000</td>\n",
              "      <td>1.000000</td>\n",
              "      <td>0.980000</td>\n",
              "      <td>1.000000</td>\n",
              "      <td>1.000000</td>\n",
              "      <td>1.000000</td>\n",
              "      <td>1.000000</td>\n",
              "      <td>1.000000</td>\n",
              "      <td>1.000000</td>\n",
              "      <td>1.000000</td>\n",
              "      <td>1.000000</td>\n",
              "      <td>1.000000</td>\n",
              "      <td>1.000000</td>\n",
              "      <td>1.000000</td>\n",
              "      <td>1.000000</td>\n",
              "      <td>1.000000</td>\n",
              "      <td>4.000000</td>\n",
              "    </tr>\n",
              "  </tbody>\n",
              "</table>\n",
              "<p>8 rows × 980 columns</p>\n",
              "</div>"
            ],
            "text/plain": [
              "        problem_id           v0  ...         v977       target\n",
              "count  8302.000000  8302.000000  ...  8302.000000  8302.000000\n",
              "mean     10.340520     0.503570  ...     0.506916     0.659359\n",
              "std       6.183559     0.267315  ...     0.294042     0.782339\n",
              "min       0.000000     0.010000  ...     0.010000     0.000000\n",
              "25%       5.000000     0.290000  ...     0.240000     0.000000\n",
              "50%      11.000000     0.510000  ...     0.520000     1.000000\n",
              "75%      16.000000     0.710000  ...     0.770000     1.000000\n",
              "max      20.000000     1.000000  ...     1.000000     4.000000\n",
              "\n",
              "[8 rows x 980 columns]"
            ]
          },
          "metadata": {
            "tags": []
          },
          "execution_count": 4
        }
      ]
    },
    {
      "cell_type": "markdown",
      "metadata": {
        "id": "i-GUyjniyRWT"
      },
      "source": [
        "At first glance, all numerical variables except prolem_id seem to have \n",
        "similar distribution. "
      ]
    },
    {
      "cell_type": "code",
      "metadata": {
        "colab": {
          "base_uri": "https://localhost:8080/"
        },
        "id": "2YuxA-afFHU1",
        "outputId": "94869990-b9b3-47dd-81fe-cc5e532521a1"
      },
      "source": [
        "data.info()"
      ],
      "execution_count": 31,
      "outputs": [
        {
          "output_type": "stream",
          "text": [
            "<class 'pandas.core.frame.DataFrame'>\n",
            "RangeIndex: 8302 entries, 0 to 8301\n",
            "Columns: 980 entries, problem_id to target\n",
            "dtypes: float64(978), int64(2)\n",
            "memory usage: 62.1 MB\n"
          ],
          "name": "stdout"
        }
      ]
    },
    {
      "cell_type": "code",
      "metadata": {
        "colab": {
          "base_uri": "https://localhost:8080/"
        },
        "id": "rxo9_iZkzHHh",
        "outputId": "5d3e4348-9198-4fb7-86da-ede6b0f407b8"
      },
      "source": [
        "data.problem_id.unique()"
      ],
      "execution_count": 34,
      "outputs": [
        {
          "output_type": "execute_result",
          "data": {
            "text/plain": [
              "array([ 0,  1,  2,  3,  4,  5,  6,  7,  8,  9, 10, 11, 12, 13, 14, 15, 16,\n",
              "       17, 18, 19, 20])"
            ]
          },
          "metadata": {
            "tags": []
          },
          "execution_count": 34
        }
      ]
    },
    {
      "cell_type": "markdown",
      "metadata": {
        "id": "ayUu9ndI0Izw"
      },
      "source": [
        "We see actually we can treat problem_id as a categorical variable. "
      ]
    },
    {
      "cell_type": "markdown",
      "metadata": {
        "id": "TIH-4Ino0g4O"
      },
      "source": [
        "### Feature Engineering"
      ]
    },
    {
      "cell_type": "code",
      "metadata": {
        "id": "b277bj4s0Hy3"
      },
      "source": [
        "# convert problem_id into categorical variable \n",
        "data.problem_id = data.problem_id.astype('category')"
      ],
      "execution_count": 41,
      "outputs": []
    },
    {
      "cell_type": "code",
      "metadata": {
        "colab": {
          "base_uri": "https://localhost:8080/"
        },
        "id": "Eq1tdKtj1Hx7",
        "outputId": "2641d7e1-939e-44ab-a6c5-08d8a91044c4"
      },
      "source": [
        "data.info()"
      ],
      "execution_count": 43,
      "outputs": [
        {
          "output_type": "stream",
          "text": [
            "<class 'pandas.core.frame.DataFrame'>\n",
            "RangeIndex: 8302 entries, 0 to 8301\n",
            "Columns: 980 entries, problem_id to target\n",
            "dtypes: category(1), float64(978), int64(1)\n",
            "memory usage: 62.0 MB\n"
          ],
          "name": "stdout"
        }
      ]
    },
    {
      "cell_type": "code",
      "metadata": {
        "id": "k9WGBTEZcskz"
      },
      "source": [
        "X = data.drop('target', axis=1)\n",
        "y = data.target"
      ],
      "execution_count": 119,
      "outputs": []
    },
    {
      "cell_type": "code",
      "metadata": {
        "id": "AKRX7w1V9QB2"
      },
      "source": [
        "# one-hot encoding problem_id\n",
        "categorical_columns = (X.dtypes == 'category')\n",
        "cat_pipe = Pipeline([('ohe', OneHotEncoder())])\n",
        "preprocessing = ColumnTransformer([('categorical', cat_pipe, categorical_columns)])"
      ],
      "execution_count": 68,
      "outputs": []
    },
    {
      "cell_type": "code",
      "metadata": {
        "id": "m7cASk7bcwdW"
      },
      "source": [
        "X_train, X_val, y_train, y_val = train_test_split(X, y, random_state=0)"
      ],
      "execution_count": 81,
      "outputs": []
    },
    {
      "cell_type": "markdown",
      "metadata": {
        "id": "LllnnRTWvXUv"
      },
      "source": [
        "Let's first see feature importance with a simple xgboost model without any fine tuning.\n"
      ]
    },
    {
      "cell_type": "markdown",
      "metadata": {
        "id": "Aj6sFwx5ulam"
      },
      "source": [
        "### Feature Importance"
      ]
    },
    {
      "cell_type": "code",
      "metadata": {
        "id": "8Z1MCljFuj7A"
      },
      "source": [
        "# list for important columns\n",
        "imp_cols = []\n",
        "def importance(model, X_columns, X_val, y_val):\n",
        "    \"\"\"Compute the important columns and add them to the list imp_cols\"\"\"\n",
        "    r = permutation_importance(model, X_val, y_val,\n",
        "                           n_repeats=3)\n",
        "    for i in r.importances_mean.argsort()[::-1]:\n",
        "        if r.importances_mean[i] - 2 * r.importances_std[i] > 0:\n",
        "#             print(f\"{X_columns[i]:<20}\"\n",
        "#                   f\"{r.importances_mean[i]:.3f}\"\n",
        "#                   f\" +/- {r.importances_std[i]:.3f}\")\n",
        "            imp_cols.append(X_columns[i])\n",
        "importance(clf, X.columns, X_val, y_val)\n",
        "# run model only using important columns\n",
        "# train val split\n",
        "X = train.iloc[:,:-1].drop('problem_id', 1)[imp_cols]\n",
        "y = train['target'].values\n",
        "X_train, X_val, y_train, y_val = train_test_split(X, y, test_size=0.2)\n",
        "# fit model\n",
        "clf = GradientBoostingClassifier()\n",
        "clf.fit(X_train, y_train)\n",
        "# predict\n",
        "y_proba = clf.predict_proba(X_val)\n",
        "y_pred = clf.predict(X_val)\n",
        "# validation log loss\n",
        "val_log_loss = log_loss(y_val, y_proba)\n",
        "print(f'Validation Log Loss: {val_log_loss:.4f}') \n",
        "# validation accuracy\n",
        "val_accuracy = accuracy_score(y_val, y_pred)\n",
        "print(f'Validation Accuracy: {val_accuracy:.4f}') "
      ],
      "execution_count": null,
      "outputs": []
    },
    {
      "cell_type": "markdown",
      "metadata": {
        "id": "zE-Rh4zt733n"
      },
      "source": [
        "### Fine Tuning with Grid Search"
      ]
    },
    {
      "cell_type": "code",
      "metadata": {
        "id": "HWzGoBz-cyCE"
      },
      "source": [
        "hyper = {'clf__loss': ['deviance', 'exponential'],\n",
        "         'clf__learning_rate': [0.01, 0.1],\n",
        "         'clf__n_estimators': [50, 100],\n",
        "         'clf__max_depth':[5, 10],\n",
        "         'clf__max_features':['auto', 'sqrt', 'log2']\n",
        "}"
      ],
      "execution_count": 70,
      "outputs": []
    },
    {
      "cell_type": "code",
      "metadata": {
        "id": "6G0osBdWCNv4"
      },
      "source": [
        "pipe = Pipeline([('preprocessing', preprocessing), \n",
        "                 ('clf', GradientBoostingClassifier())])"
      ],
      "execution_count": 71,
      "outputs": []
    },
    {
      "cell_type": "code",
      "metadata": {
        "id": "zoKXqLMcczaz"
      },
      "source": [
        "clf_grid = GridSearchCV(pipe,\n",
        "                        hyper,\n",
        "                        cv=3,\n",
        "                        n_jobs=-1,\n",
        "                        verbose=True)"
      ],
      "execution_count": 72,
      "outputs": []
    },
    {
      "cell_type": "code",
      "metadata": {
        "colab": {
          "base_uri": "https://localhost:8080/"
        },
        "id": "sgzC4fzTc1lX",
        "outputId": "f538ebd8-beff-47f1-b9a6-44d7f9c75138"
      },
      "source": [
        "clf_grid.fit(X_train, y_train)"
      ],
      "execution_count": 73,
      "outputs": [
        {
          "output_type": "stream",
          "text": [
            "Fitting 3 folds for each of 48 candidates, totalling 144 fits\n"
          ],
          "name": "stdout"
        },
        {
          "output_type": "stream",
          "text": [
            "[Parallel(n_jobs=-1)]: Using backend LokyBackend with 40 concurrent workers.\n",
            "[Parallel(n_jobs=-1)]: Done 144 out of 144 | elapsed:    5.7s finished\n"
          ],
          "name": "stderr"
        },
        {
          "output_type": "execute_result",
          "data": {
            "text/plain": [
              "GridSearchCV(cv=3, error_score=nan,\n",
              "             estimator=Pipeline(memory=None,\n",
              "                                steps=[('preprocessing',\n",
              "                                        ColumnTransformer(n_jobs=None,\n",
              "                                                          remainder='drop',\n",
              "                                                          sparse_threshold=0.3,\n",
              "                                                          transformer_weights=None,\n",
              "                                                          transformers=[('categorical',\n",
              "                                                                         Pipeline(memory=None,\n",
              "                                                                                  steps=[('ohe',\n",
              "                                                                                          OneHotEncoder(categories='auto',\n",
              "                                                                                                        drop=None,\n",
              "                                                                                                        dtype=<class 'numpy.float64'>,\n",
              "                                                                                                        handle_unknown='error',\n",
              "                                                                                                        sparse=Tru...\n",
              "                                                                   validation_fraction=0.1,\n",
              "                                                                   verbose=0,\n",
              "                                                                   warm_start=False))],\n",
              "                                verbose=False),\n",
              "             iid='deprecated', n_jobs=-1,\n",
              "             param_grid={'clf__learning_rate': [0.01, 0.1],\n",
              "                         'clf__loss': ['deviance', 'exponential'],\n",
              "                         'clf__max_depth': [5, 10],\n",
              "                         'clf__max_features': ['auto', 'sqrt', 'log2'],\n",
              "                         'clf__n_estimators': [50, 100]},\n",
              "             pre_dispatch='2*n_jobs', refit=True, return_train_score=False,\n",
              "             scoring=None, verbose=True)"
            ]
          },
          "metadata": {
            "tags": []
          },
          "execution_count": 73
        }
      ]
    },
    {
      "cell_type": "code",
      "metadata": {
        "colab": {
          "base_uri": "https://localhost:8080/"
        },
        "id": "3aia6PY8c28w",
        "outputId": "0c7f556b-076c-45ce-ff68-5bd494c0c65e"
      },
      "source": [
        "print(clf_grid.best_estimator_.get_params()['clf'])"
      ],
      "execution_count": 75,
      "outputs": [
        {
          "output_type": "stream",
          "text": [
            "GradientBoostingClassifier(ccp_alpha=0.0, criterion='friedman_mse', init=None,\n",
            "                           learning_rate=0.1, loss='deviance', max_depth=5,\n",
            "                           max_features='auto', max_leaf_nodes=None,\n",
            "                           min_impurity_decrease=0.0, min_impurity_split=None,\n",
            "                           min_samples_leaf=1, min_samples_split=2,\n",
            "                           min_weight_fraction_leaf=0.0, n_estimators=50,\n",
            "                           n_iter_no_change=None, presort='deprecated',\n",
            "                           random_state=None, subsample=1.0, tol=0.0001,\n",
            "                           validation_fraction=0.1, verbose=0,\n",
            "                           warm_start=False)\n"
          ],
          "name": "stdout"
        }
      ]
    },
    {
      "cell_type": "code",
      "metadata": {
        "colab": {
          "base_uri": "https://localhost:8080/"
        },
        "id": "eKL00CHxxWES",
        "outputId": "af466105-4cb2-4c45-dd35-ea573b3e96f7"
      },
      "source": [
        "pred = clf_grid.best_estimator_.predict(X_val)\n",
        "accuracy_score(y_val, pred)"
      ],
      "execution_count": 82,
      "outputs": [
        {
          "output_type": "execute_result",
          "data": {
            "text/plain": [
              "0.5833333333333334"
            ]
          },
          "metadata": {
            "tags": []
          },
          "execution_count": 82
        }
      ]
    },
    {
      "cell_type": "markdown",
      "metadata": {
        "id": "kflYWziDHe5e"
      },
      "source": [
        "We see a very low accuracy with problem_id as categorical variable. Let's try to drop it"
      ]
    },
    {
      "cell_type": "code",
      "metadata": {
        "id": "czaihIjIHmmB"
      },
      "source": [
        "X = X.drop('problem_id', axis=1)\n",
        "X_train, X_val, y_train, y_val = train_test_split(X, y, random_state=0)"
      ],
      "execution_count": 120,
      "outputs": []
    },
    {
      "cell_type": "code",
      "metadata": {
        "id": "i7HWlQn-JufK"
      },
      "source": [
        "hyper1 = {'loss': ['deviance', 'exponential'],\n",
        "         'learning_rate': [0.01, 0.1],\n",
        "         'n_estimators': [50, 100],\n",
        "         'max_depth':[5, 10],\n",
        "         'max_features':['auto', 'sqrt', 'log2']\n",
        "}"
      ],
      "execution_count": 121,
      "outputs": []
    },
    {
      "cell_type": "code",
      "metadata": {
        "id": "gj2MDr_nJKtk"
      },
      "source": [
        "clf_grid1 = GridSearchCV(GradientBoostingClassifier(),\n",
        "                        hyper1,\n",
        "                        cv=3,\n",
        "                        n_jobs=-1,\n",
        "                        verbose=True)"
      ],
      "execution_count": 122,
      "outputs": []
    },
    {
      "cell_type": "code",
      "metadata": {
        "colab": {
          "base_uri": "https://localhost:8080/"
        },
        "id": "fLm6UHl8JQdf",
        "outputId": "d34c58c8-ad7f-4da8-dda7-9d280342ce9c"
      },
      "source": [
        "clf_grid1.fit(X_train, y_train)"
      ],
      "execution_count": 123,
      "outputs": [
        {
          "output_type": "stream",
          "text": [
            "Fitting 3 folds for each of 48 candidates, totalling 144 fits\n"
          ],
          "name": "stdout"
        },
        {
          "output_type": "stream",
          "text": [
            "[Parallel(n_jobs=-1)]: Using backend LokyBackend with 40 concurrent workers.\n",
            "[Parallel(n_jobs=-1)]: Done 144 out of 144 | elapsed: 17.1min finished\n"
          ],
          "name": "stderr"
        },
        {
          "output_type": "execute_result",
          "data": {
            "text/plain": [
              "GridSearchCV(cv=3, error_score=nan,\n",
              "             estimator=GradientBoostingClassifier(ccp_alpha=0.0,\n",
              "                                                  criterion='friedman_mse',\n",
              "                                                  init=None, learning_rate=0.1,\n",
              "                                                  loss='deviance', max_depth=3,\n",
              "                                                  max_features=None,\n",
              "                                                  max_leaf_nodes=None,\n",
              "                                                  min_impurity_decrease=0.0,\n",
              "                                                  min_impurity_split=None,\n",
              "                                                  min_samples_leaf=1,\n",
              "                                                  min_samples_split=2,\n",
              "                                                  min_weight_fraction_leaf=0.0,\n",
              "                                                  n_estimators=100,\n",
              "                                                  n_iter_no_c...\n",
              "                                                  random_state=None,\n",
              "                                                  subsample=1.0, tol=0.0001,\n",
              "                                                  validation_fraction=0.1,\n",
              "                                                  verbose=0, warm_start=False),\n",
              "             iid='deprecated', n_jobs=-1,\n",
              "             param_grid={'learning_rate': [0.01, 0.1],\n",
              "                         'loss': ['deviance', 'exponential'],\n",
              "                         'max_depth': [5, 10],\n",
              "                         'max_features': ['auto', 'sqrt', 'log2'],\n",
              "                         'n_estimators': [50, 100]},\n",
              "             pre_dispatch='2*n_jobs', refit=True, return_train_score=False,\n",
              "             scoring=None, verbose=True)"
            ]
          },
          "metadata": {
            "tags": []
          },
          "execution_count": 123
        }
      ]
    },
    {
      "cell_type": "code",
      "metadata": {
        "colab": {
          "base_uri": "https://localhost:8080/"
        },
        "id": "rhMjotv-MlPN",
        "outputId": "e6fe98bf-5882-4bcd-dc98-83627355cc62"
      },
      "source": [
        "print(clf_grid1.best_estimator_.get_params())"
      ],
      "execution_count": 124,
      "outputs": [
        {
          "output_type": "stream",
          "text": [
            "{'ccp_alpha': 0.0, 'criterion': 'friedman_mse', 'init': None, 'learning_rate': 0.1, 'loss': 'deviance', 'max_depth': 10, 'max_features': 'sqrt', 'max_leaf_nodes': None, 'min_impurity_decrease': 0.0, 'min_impurity_split': None, 'min_samples_leaf': 1, 'min_samples_split': 2, 'min_weight_fraction_leaf': 0.0, 'n_estimators': 100, 'n_iter_no_change': None, 'presort': 'deprecated', 'random_state': None, 'subsample': 1.0, 'tol': 0.0001, 'validation_fraction': 0.1, 'verbose': 0, 'warm_start': False}\n"
          ],
          "name": "stdout"
        }
      ]
    },
    {
      "cell_type": "code",
      "metadata": {
        "colab": {
          "base_uri": "https://localhost:8080/"
        },
        "id": "pokjSv7jX1ne",
        "outputId": "7c3cecf4-382f-433c-b5ce-f0fed3d57425"
      },
      "source": [
        "pred1 = clf_grid1.best_estimator_.predict(X_val)\n",
        "accuracy_score(y_val, pred1)"
      ],
      "execution_count": 126,
      "outputs": [
        {
          "output_type": "execute_result",
          "data": {
            "text/plain": [
              "0.7027938342967245"
            ]
          },
          "metadata": {
            "tags": []
          },
          "execution_count": 126
        }
      ]
    },
    {
      "cell_type": "markdown",
      "metadata": {
        "id": "b5A_zdVwkk4L"
      },
      "source": [
        "Validation accuracy increased dramatically. Let's try to treat \"problem_id\" as numerical variable."
      ]
    },
    {
      "cell_type": "code",
      "metadata": {
        "id": "8HCdShLTkdEg"
      },
      "source": [
        "X = data.drop('target', axis=1)\n",
        "y = data.target\n",
        "X_train, X_val, y_train, y_val = train_test_split(X, y, random_state=0)"
      ],
      "execution_count": 128,
      "outputs": []
    },
    {
      "cell_type": "code",
      "metadata": {
        "id": "kDj6kdWUkdM0"
      },
      "source": [
        "clf_grid2 = GridSearchCV(GradientBoostingClassifier(),\n",
        "                        hyper1,\n",
        "                        cv=3,\n",
        "                        n_jobs=-1,\n",
        "                        verbose=True)"
      ],
      "execution_count": 129,
      "outputs": []
    },
    {
      "cell_type": "code",
      "metadata": {
        "colab": {
          "base_uri": "https://localhost:8080/"
        },
        "id": "VSMxdFZikdSw",
        "outputId": "5401f9e2-43a0-435f-bcd2-e5b9613f5887"
      },
      "source": [
        "clf_grid2.fit(X_train, y_train)"
      ],
      "execution_count": 130,
      "outputs": [
        {
          "output_type": "stream",
          "text": [
            "Fitting 3 folds for each of 48 candidates, totalling 144 fits\n"
          ],
          "name": "stdout"
        },
        {
          "output_type": "stream",
          "text": [
            "[Parallel(n_jobs=-1)]: Using backend LokyBackend with 40 concurrent workers.\n",
            "[Parallel(n_jobs=-1)]: Done 144 out of 144 | elapsed: 16.9min finished\n"
          ],
          "name": "stderr"
        },
        {
          "output_type": "execute_result",
          "data": {
            "text/plain": [
              "GridSearchCV(cv=3, error_score=nan,\n",
              "             estimator=GradientBoostingClassifier(ccp_alpha=0.0,\n",
              "                                                  criterion='friedman_mse',\n",
              "                                                  init=None, learning_rate=0.1,\n",
              "                                                  loss='deviance', max_depth=3,\n",
              "                                                  max_features=None,\n",
              "                                                  max_leaf_nodes=None,\n",
              "                                                  min_impurity_decrease=0.0,\n",
              "                                                  min_impurity_split=None,\n",
              "                                                  min_samples_leaf=1,\n",
              "                                                  min_samples_split=2,\n",
              "                                                  min_weight_fraction_leaf=0.0,\n",
              "                                                  n_estimators=100,\n",
              "                                                  n_iter_no_c...\n",
              "                                                  random_state=None,\n",
              "                                                  subsample=1.0, tol=0.0001,\n",
              "                                                  validation_fraction=0.1,\n",
              "                                                  verbose=0, warm_start=False),\n",
              "             iid='deprecated', n_jobs=-1,\n",
              "             param_grid={'learning_rate': [0.01, 0.1],\n",
              "                         'loss': ['deviance', 'exponential'],\n",
              "                         'max_depth': [5, 10],\n",
              "                         'max_features': ['auto', 'sqrt', 'log2'],\n",
              "                         'n_estimators': [50, 100]},\n",
              "             pre_dispatch='2*n_jobs', refit=True, return_train_score=False,\n",
              "             scoring=None, verbose=True)"
            ]
          },
          "metadata": {
            "tags": []
          },
          "execution_count": 130
        }
      ]
    },
    {
      "cell_type": "code",
      "metadata": {
        "colab": {
          "base_uri": "https://localhost:8080/"
        },
        "id": "OAbjl4XJk_lG",
        "outputId": "99d5ae2d-10a6-4f23-91a9-bd3911495e74"
      },
      "source": [
        "pred2 = clf_grid2.best_estimator_.predict(X_val)\n",
        "accuracy_score(y_val, pred2)"
      ],
      "execution_count": 131,
      "outputs": [
        {
          "output_type": "execute_result",
          "data": {
            "text/plain": [
              "0.7133911368015414"
            ]
          },
          "metadata": {
            "tags": []
          },
          "execution_count": 131
        }
      ]
    },
    {
      "cell_type": "markdown",
      "metadata": {
        "id": "4n2z1uvgrfic"
      },
      "source": [
        "We see that \"problem_id\" helped to increase accuracy on validation set. Let's try PCA with our best model."
      ]
    },
    {
      "cell_type": "code",
      "metadata": {
        "id": "BhWTiAUBmEHC"
      },
      "source": [
        "# try to use PCA to select numerical variables\n",
        "pipe_pca = Pipeline([('PCA', PCA(n_components = 'mle')),\n",
        "                     ('clf', clf_grid2.best_estimator_)])"
      ],
      "execution_count": 133,
      "outputs": []
    },
    {
      "cell_type": "code",
      "metadata": {
        "colab": {
          "base_uri": "https://localhost:8080/"
        },
        "id": "Jfg-VO2YsT1S",
        "outputId": "42b760ca-9014-437d-b9de-899d7c615743"
      },
      "source": [
        "pipe_pca.fit(X_train, y_train)\n"
      ],
      "execution_count": 134,
      "outputs": [
        {
          "output_type": "execute_result",
          "data": {
            "text/plain": [
              "Pipeline(memory=None,\n",
              "         steps=[('PCA',\n",
              "                 PCA(copy=True, iterated_power='auto', n_components='mle',\n",
              "                     random_state=None, svd_solver='auto', tol=0.0,\n",
              "                     whiten=False)),\n",
              "                ('clf',\n",
              "                 GradientBoostingClassifier(ccp_alpha=0.0,\n",
              "                                            criterion='friedman_mse', init=None,\n",
              "                                            learning_rate=0.1, loss='deviance',\n",
              "                                            max_depth=5, max_features='auto',\n",
              "                                            max_leaf_nodes=None,\n",
              "                                            min_impurity_decrease=0.0,\n",
              "                                            min_impurity_split=None,\n",
              "                                            min_samples_leaf=1,\n",
              "                                            min_samples_split=2,\n",
              "                                            min_weight_fraction_leaf=0.0,\n",
              "                                            n_estimators=100,\n",
              "                                            n_iter_no_change=None,\n",
              "                                            presort='deprecated',\n",
              "                                            random_state=None, subsample=1.0,\n",
              "                                            tol=0.0001, validation_fraction=0.1,\n",
              "                                            verbose=0, warm_start=False))],\n",
              "         verbose=False)"
            ]
          },
          "metadata": {
            "tags": []
          },
          "execution_count": 134
        }
      ]
    },
    {
      "cell_type": "code",
      "metadata": {
        "colab": {
          "base_uri": "https://localhost:8080/"
        },
        "id": "D-3DSl6Xscqq",
        "outputId": "c051f54b-95b3-4be4-b55b-51f82e49d472"
      },
      "source": [
        "pred3 = pipe_pca.predict(X_val)\n",
        "accuracy_score(y_val, pred3)"
      ],
      "execution_count": 135,
      "outputs": [
        {
          "output_type": "execute_result",
          "data": {
            "text/plain": [
              "0.6931599229287091"
            ]
          },
          "metadata": {
            "tags": []
          },
          "execution_count": 135
        }
      ]
    },
    {
      "cell_type": "markdown",
      "metadata": {
        "id": "g3qsP5a58BZi"
      },
      "source": [
        "### Test"
      ]
    },
    {
      "cell_type": "code",
      "metadata": {
        "id": "xsAMVkIJ5dvP"
      },
      "source": [
        "test = pd.read_csv('test0.csv')\n",
        "X_test = test.drop(['target','problem_id'], axis=1)\n",
        "X_test = X_test.set_index('obs_id')"
      ],
      "execution_count": 140,
      "outputs": []
    },
    {
      "cell_type": "code",
      "metadata": {
        "id": "kFTSQTJszifv"
      },
      "source": [
        "pred_test = clf_grid1.best_estimator_.predict(X_test)"
      ],
      "execution_count": 141,
      "outputs": []
    },
    {
      "cell_type": "code",
      "metadata": {
        "id": "XsD-35EvzmSG"
      },
      "source": [
        "test.target = pred_test"
      ],
      "execution_count": 142,
      "outputs": []
    },
    {
      "cell_type": "code",
      "metadata": {
        "id": "1HvAGLfuz23O"
      },
      "source": [
        "test_final = test[['obs_id', 'target']]"
      ],
      "execution_count": 143,
      "outputs": []
    },
    {
      "cell_type": "code",
      "metadata": {
        "id": "QRatcQMKz7b0"
      },
      "source": [
        "test_final = test_final.set_index('obs_id')"
      ],
      "execution_count": 144,
      "outputs": []
    },
    {
      "cell_type": "code",
      "metadata": {
        "id": "IMXAUNhh0FWB"
      },
      "source": [
        "test_final.to_csv('sample_data/test_final_1.csv')"
      ],
      "execution_count": 145,
      "outputs": []
    },
    {
      "cell_type": "code",
      "metadata": {
        "colab": {
          "base_uri": "https://localhost:8080/",
          "height": 431
        },
        "id": "6eRWMAt80rTH",
        "outputId": "02e0f76e-3a02-48dc-de73-a86900de51cf"
      },
      "source": [
        "test_final"
      ],
      "execution_count": 146,
      "outputs": [
        {
          "output_type": "execute_result",
          "data": {
            "text/html": [
              "<div>\n",
              "<style scoped>\n",
              "    .dataframe tbody tr th:only-of-type {\n",
              "        vertical-align: middle;\n",
              "    }\n",
              "\n",
              "    .dataframe tbody tr th {\n",
              "        vertical-align: top;\n",
              "    }\n",
              "\n",
              "    .dataframe thead th {\n",
              "        text-align: right;\n",
              "    }\n",
              "</style>\n",
              "<table border=\"1\" class=\"dataframe\">\n",
              "  <thead>\n",
              "    <tr style=\"text-align: right;\">\n",
              "      <th></th>\n",
              "      <th>target</th>\n",
              "    </tr>\n",
              "    <tr>\n",
              "      <th>obs_id</th>\n",
              "      <th></th>\n",
              "    </tr>\n",
              "  </thead>\n",
              "  <tbody>\n",
              "    <tr>\n",
              "      <th>0</th>\n",
              "      <td>1</td>\n",
              "    </tr>\n",
              "    <tr>\n",
              "      <th>1</th>\n",
              "      <td>1</td>\n",
              "    </tr>\n",
              "    <tr>\n",
              "      <th>2</th>\n",
              "      <td>1</td>\n",
              "    </tr>\n",
              "    <tr>\n",
              "      <th>3</th>\n",
              "      <td>0</td>\n",
              "    </tr>\n",
              "    <tr>\n",
              "      <th>4</th>\n",
              "      <td>1</td>\n",
              "    </tr>\n",
              "    <tr>\n",
              "      <th>...</th>\n",
              "      <td>...</td>\n",
              "    </tr>\n",
              "    <tr>\n",
              "      <th>2036</th>\n",
              "      <td>0</td>\n",
              "    </tr>\n",
              "    <tr>\n",
              "      <th>2037</th>\n",
              "      <td>0</td>\n",
              "    </tr>\n",
              "    <tr>\n",
              "      <th>2038</th>\n",
              "      <td>0</td>\n",
              "    </tr>\n",
              "    <tr>\n",
              "      <th>2039</th>\n",
              "      <td>0</td>\n",
              "    </tr>\n",
              "    <tr>\n",
              "      <th>2040</th>\n",
              "      <td>1</td>\n",
              "    </tr>\n",
              "  </tbody>\n",
              "</table>\n",
              "<p>2041 rows × 1 columns</p>\n",
              "</div>"
            ],
            "text/plain": [
              "        target\n",
              "obs_id        \n",
              "0            1\n",
              "1            1\n",
              "2            1\n",
              "3            0\n",
              "4            1\n",
              "...        ...\n",
              "2036         0\n",
              "2037         0\n",
              "2038         0\n",
              "2039         0\n",
              "2040         1\n",
              "\n",
              "[2041 rows x 1 columns]"
            ]
          },
          "metadata": {
            "tags": []
          },
          "execution_count": 146
        }
      ]
    },
    {
      "cell_type": "code",
      "metadata": {
        "id": "5Qi5vdy7MNza"
      },
      "source": [
        ""
      ],
      "execution_count": null,
      "outputs": []
    }
  ]
}