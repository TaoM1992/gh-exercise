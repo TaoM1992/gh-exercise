{
  "nbformat": 4,
  "nbformat_minor": 0,
  "metadata": {
    "colab": {
      "name": "hw1.ipynb",
      "provenance": [],
      "machine_shape": "hm",
      "authorship_tag": "ABX9TyPrK+e/DMc2t+H/rj35gwoq",
      "include_colab_link": true
    },
    "kernelspec": {
      "name": "python3",
      "display_name": "Python 3"
    },
    "language_info": {
      "name": "python"
    },
    "accelerator": "TPU",
    "widgets": {
      "application/vnd.jupyter.widget-state+json": {
        "3edf297325a94f44a35bec180b62be98": {
          "model_module": "@jupyter-widgets/controls",
          "model_name": "HBoxModel",
          "state": {
            "_view_name": "HBoxView",
            "_dom_classes": [],
            "_model_name": "HBoxModel",
            "_view_module": "@jupyter-widgets/controls",
            "_model_module_version": "1.5.0",
            "_view_count": null,
            "_view_module_version": "1.5.0",
            "box_style": "",
            "layout": "IPY_MODEL_d707b1aedfd34c05bdf77ab65d0571b3",
            "_model_module": "@jupyter-widgets/controls",
            "children": [
              "IPY_MODEL_68ace629197b48c3af10918f00f99f4a",
              "IPY_MODEL_05bfe24e902a42a39580f1ed57076163"
            ]
          }
        },
        "d707b1aedfd34c05bdf77ab65d0571b3": {
          "model_module": "@jupyter-widgets/base",
          "model_name": "LayoutModel",
          "state": {
            "_view_name": "LayoutView",
            "grid_template_rows": null,
            "right": null,
            "justify_content": null,
            "_view_module": "@jupyter-widgets/base",
            "overflow": null,
            "_model_module_version": "1.2.0",
            "_view_count": null,
            "flex_flow": null,
            "width": null,
            "min_width": null,
            "border": null,
            "align_items": null,
            "bottom": null,
            "_model_module": "@jupyter-widgets/base",
            "top": null,
            "grid_column": null,
            "overflow_y": null,
            "overflow_x": null,
            "grid_auto_flow": null,
            "grid_area": null,
            "grid_template_columns": null,
            "flex": null,
            "_model_name": "LayoutModel",
            "justify_items": null,
            "grid_row": null,
            "max_height": null,
            "align_content": null,
            "visibility": null,
            "align_self": null,
            "height": null,
            "min_height": null,
            "padding": null,
            "grid_auto_rows": null,
            "grid_gap": null,
            "max_width": null,
            "order": null,
            "_view_module_version": "1.2.0",
            "grid_template_areas": null,
            "object_position": null,
            "object_fit": null,
            "grid_auto_columns": null,
            "margin": null,
            "display": null,
            "left": null
          }
        },
        "68ace629197b48c3af10918f00f99f4a": {
          "model_module": "@jupyter-widgets/controls",
          "model_name": "FloatProgressModel",
          "state": {
            "_view_name": "ProgressView",
            "style": "IPY_MODEL_4376faa0efab4cffbee25ae0c80ba70e",
            "_dom_classes": [],
            "description": "100%",
            "_model_name": "FloatProgressModel",
            "bar_style": "success",
            "max": 2,
            "_view_module": "@jupyter-widgets/controls",
            "_model_module_version": "1.5.0",
            "value": 2,
            "_view_count": null,
            "_view_module_version": "1.5.0",
            "orientation": "horizontal",
            "min": 0,
            "description_tooltip": null,
            "_model_module": "@jupyter-widgets/controls",
            "layout": "IPY_MODEL_0c2ca39b92ed4c2b9f3c4b204ca1c248"
          }
        },
        "05bfe24e902a42a39580f1ed57076163": {
          "model_module": "@jupyter-widgets/controls",
          "model_name": "HTMLModel",
          "state": {
            "_view_name": "HTMLView",
            "style": "IPY_MODEL_770d67b8245e4ef6bea41ff7a293db9c",
            "_dom_classes": [],
            "description": "",
            "_model_name": "HTMLModel",
            "placeholder": "​",
            "_view_module": "@jupyter-widgets/controls",
            "_model_module_version": "1.5.0",
            "value": " 2/2 [06:18&lt;00:00, 189.37s/it]",
            "_view_count": null,
            "_view_module_version": "1.5.0",
            "description_tooltip": null,
            "_model_module": "@jupyter-widgets/controls",
            "layout": "IPY_MODEL_167b96626b5042fc9bb80bba7f497ee9"
          }
        },
        "4376faa0efab4cffbee25ae0c80ba70e": {
          "model_module": "@jupyter-widgets/controls",
          "model_name": "ProgressStyleModel",
          "state": {
            "_view_name": "StyleView",
            "_model_name": "ProgressStyleModel",
            "description_width": "initial",
            "_view_module": "@jupyter-widgets/base",
            "_model_module_version": "1.5.0",
            "_view_count": null,
            "_view_module_version": "1.2.0",
            "bar_color": null,
            "_model_module": "@jupyter-widgets/controls"
          }
        },
        "0c2ca39b92ed4c2b9f3c4b204ca1c248": {
          "model_module": "@jupyter-widgets/base",
          "model_name": "LayoutModel",
          "state": {
            "_view_name": "LayoutView",
            "grid_template_rows": null,
            "right": null,
            "justify_content": null,
            "_view_module": "@jupyter-widgets/base",
            "overflow": null,
            "_model_module_version": "1.2.0",
            "_view_count": null,
            "flex_flow": null,
            "width": null,
            "min_width": null,
            "border": null,
            "align_items": null,
            "bottom": null,
            "_model_module": "@jupyter-widgets/base",
            "top": null,
            "grid_column": null,
            "overflow_y": null,
            "overflow_x": null,
            "grid_auto_flow": null,
            "grid_area": null,
            "grid_template_columns": null,
            "flex": null,
            "_model_name": "LayoutModel",
            "justify_items": null,
            "grid_row": null,
            "max_height": null,
            "align_content": null,
            "visibility": null,
            "align_self": null,
            "height": null,
            "min_height": null,
            "padding": null,
            "grid_auto_rows": null,
            "grid_gap": null,
            "max_width": null,
            "order": null,
            "_view_module_version": "1.2.0",
            "grid_template_areas": null,
            "object_position": null,
            "object_fit": null,
            "grid_auto_columns": null,
            "margin": null,
            "display": null,
            "left": null
          }
        },
        "770d67b8245e4ef6bea41ff7a293db9c": {
          "model_module": "@jupyter-widgets/controls",
          "model_name": "DescriptionStyleModel",
          "state": {
            "_view_name": "StyleView",
            "_model_name": "DescriptionStyleModel",
            "description_width": "",
            "_view_module": "@jupyter-widgets/base",
            "_model_module_version": "1.5.0",
            "_view_count": null,
            "_view_module_version": "1.2.0",
            "_model_module": "@jupyter-widgets/controls"
          }
        },
        "167b96626b5042fc9bb80bba7f497ee9": {
          "model_module": "@jupyter-widgets/base",
          "model_name": "LayoutModel",
          "state": {
            "_view_name": "LayoutView",
            "grid_template_rows": null,
            "right": null,
            "justify_content": null,
            "_view_module": "@jupyter-widgets/base",
            "overflow": null,
            "_model_module_version": "1.2.0",
            "_view_count": null,
            "flex_flow": null,
            "width": null,
            "min_width": null,
            "border": null,
            "align_items": null,
            "bottom": null,
            "_model_module": "@jupyter-widgets/base",
            "top": null,
            "grid_column": null,
            "overflow_y": null,
            "overflow_x": null,
            "grid_auto_flow": null,
            "grid_area": null,
            "grid_template_columns": null,
            "flex": null,
            "_model_name": "LayoutModel",
            "justify_items": null,
            "grid_row": null,
            "max_height": null,
            "align_content": null,
            "visibility": null,
            "align_self": null,
            "height": null,
            "min_height": null,
            "padding": null,
            "grid_auto_rows": null,
            "grid_gap": null,
            "max_width": null,
            "order": null,
            "_view_module_version": "1.2.0",
            "grid_template_areas": null,
            "object_position": null,
            "object_fit": null,
            "grid_auto_columns": null,
            "margin": null,
            "display": null,
            "left": null
          }
        },
        "c6014aa83582410ba01653774ece036e": {
          "model_module": "@jupyter-widgets/controls",
          "model_name": "HBoxModel",
          "state": {
            "_view_name": "HBoxView",
            "_dom_classes": [],
            "_model_name": "HBoxModel",
            "_view_module": "@jupyter-widgets/controls",
            "_model_module_version": "1.5.0",
            "_view_count": null,
            "_view_module_version": "1.5.0",
            "box_style": "",
            "layout": "IPY_MODEL_d5af5683ebcc407b9b635db891f16c3e",
            "_model_module": "@jupyter-widgets/controls",
            "children": [
              "IPY_MODEL_fb6ecc173e584f5991560751b5123678",
              "IPY_MODEL_f18b2cd866e749f2af7e4cc15565d96a"
            ]
          }
        },
        "d5af5683ebcc407b9b635db891f16c3e": {
          "model_module": "@jupyter-widgets/base",
          "model_name": "LayoutModel",
          "state": {
            "_view_name": "LayoutView",
            "grid_template_rows": null,
            "right": null,
            "justify_content": null,
            "_view_module": "@jupyter-widgets/base",
            "overflow": null,
            "_model_module_version": "1.2.0",
            "_view_count": null,
            "flex_flow": null,
            "width": null,
            "min_width": null,
            "border": null,
            "align_items": null,
            "bottom": null,
            "_model_module": "@jupyter-widgets/base",
            "top": null,
            "grid_column": null,
            "overflow_y": null,
            "overflow_x": null,
            "grid_auto_flow": null,
            "grid_area": null,
            "grid_template_columns": null,
            "flex": null,
            "_model_name": "LayoutModel",
            "justify_items": null,
            "grid_row": null,
            "max_height": null,
            "align_content": null,
            "visibility": null,
            "align_self": null,
            "height": null,
            "min_height": null,
            "padding": null,
            "grid_auto_rows": null,
            "grid_gap": null,
            "max_width": null,
            "order": null,
            "_view_module_version": "1.2.0",
            "grid_template_areas": null,
            "object_position": null,
            "object_fit": null,
            "grid_auto_columns": null,
            "margin": null,
            "display": null,
            "left": null
          }
        },
        "fb6ecc173e584f5991560751b5123678": {
          "model_module": "@jupyter-widgets/controls",
          "model_name": "FloatProgressModel",
          "state": {
            "_view_name": "ProgressView",
            "style": "IPY_MODEL_5f9774e5c54549a88ee2ec43f53a6f74",
            "_dom_classes": [],
            "description": "100%",
            "_model_name": "FloatProgressModel",
            "bar_style": "success",
            "max": 2,
            "_view_module": "@jupyter-widgets/controls",
            "_model_module_version": "1.5.0",
            "value": 2,
            "_view_count": null,
            "_view_module_version": "1.5.0",
            "orientation": "horizontal",
            "min": 0,
            "description_tooltip": null,
            "_model_module": "@jupyter-widgets/controls",
            "layout": "IPY_MODEL_e7ec166f4dfa41c0a955fae4d7449234"
          }
        },
        "f18b2cd866e749f2af7e4cc15565d96a": {
          "model_module": "@jupyter-widgets/controls",
          "model_name": "HTMLModel",
          "state": {
            "_view_name": "HTMLView",
            "style": "IPY_MODEL_3d1025501c9b4a5a943278923e3efec1",
            "_dom_classes": [],
            "description": "",
            "_model_name": "HTMLModel",
            "placeholder": "​",
            "_view_module": "@jupyter-widgets/controls",
            "_model_module_version": "1.5.0",
            "value": " 2/2 [05:46&lt;00:00, 173.24s/it]",
            "_view_count": null,
            "_view_module_version": "1.5.0",
            "description_tooltip": null,
            "_model_module": "@jupyter-widgets/controls",
            "layout": "IPY_MODEL_362bf1387a4d42b39342ca5a88c85702"
          }
        },
        "5f9774e5c54549a88ee2ec43f53a6f74": {
          "model_module": "@jupyter-widgets/controls",
          "model_name": "ProgressStyleModel",
          "state": {
            "_view_name": "StyleView",
            "_model_name": "ProgressStyleModel",
            "description_width": "initial",
            "_view_module": "@jupyter-widgets/base",
            "_model_module_version": "1.5.0",
            "_view_count": null,
            "_view_module_version": "1.2.0",
            "bar_color": null,
            "_model_module": "@jupyter-widgets/controls"
          }
        },
        "e7ec166f4dfa41c0a955fae4d7449234": {
          "model_module": "@jupyter-widgets/base",
          "model_name": "LayoutModel",
          "state": {
            "_view_name": "LayoutView",
            "grid_template_rows": null,
            "right": null,
            "justify_content": null,
            "_view_module": "@jupyter-widgets/base",
            "overflow": null,
            "_model_module_version": "1.2.0",
            "_view_count": null,
            "flex_flow": null,
            "width": null,
            "min_width": null,
            "border": null,
            "align_items": null,
            "bottom": null,
            "_model_module": "@jupyter-widgets/base",
            "top": null,
            "grid_column": null,
            "overflow_y": null,
            "overflow_x": null,
            "grid_auto_flow": null,
            "grid_area": null,
            "grid_template_columns": null,
            "flex": null,
            "_model_name": "LayoutModel",
            "justify_items": null,
            "grid_row": null,
            "max_height": null,
            "align_content": null,
            "visibility": null,
            "align_self": null,
            "height": null,
            "min_height": null,
            "padding": null,
            "grid_auto_rows": null,
            "grid_gap": null,
            "max_width": null,
            "order": null,
            "_view_module_version": "1.2.0",
            "grid_template_areas": null,
            "object_position": null,
            "object_fit": null,
            "grid_auto_columns": null,
            "margin": null,
            "display": null,
            "left": null
          }
        },
        "3d1025501c9b4a5a943278923e3efec1": {
          "model_module": "@jupyter-widgets/controls",
          "model_name": "DescriptionStyleModel",
          "state": {
            "_view_name": "StyleView",
            "_model_name": "DescriptionStyleModel",
            "description_width": "",
            "_view_module": "@jupyter-widgets/base",
            "_model_module_version": "1.5.0",
            "_view_count": null,
            "_view_module_version": "1.2.0",
            "_model_module": "@jupyter-widgets/controls"
          }
        },
        "362bf1387a4d42b39342ca5a88c85702": {
          "model_module": "@jupyter-widgets/base",
          "model_name": "LayoutModel",
          "state": {
            "_view_name": "LayoutView",
            "grid_template_rows": null,
            "right": null,
            "justify_content": null,
            "_view_module": "@jupyter-widgets/base",
            "overflow": null,
            "_model_module_version": "1.2.0",
            "_view_count": null,
            "flex_flow": null,
            "width": null,
            "min_width": null,
            "border": null,
            "align_items": null,
            "bottom": null,
            "_model_module": "@jupyter-widgets/base",
            "top": null,
            "grid_column": null,
            "overflow_y": null,
            "overflow_x": null,
            "grid_auto_flow": null,
            "grid_area": null,
            "grid_template_columns": null,
            "flex": null,
            "_model_name": "LayoutModel",
            "justify_items": null,
            "grid_row": null,
            "max_height": null,
            "align_content": null,
            "visibility": null,
            "align_self": null,
            "height": null,
            "min_height": null,
            "padding": null,
            "grid_auto_rows": null,
            "grid_gap": null,
            "max_width": null,
            "order": null,
            "_view_module_version": "1.2.0",
            "grid_template_areas": null,
            "object_position": null,
            "object_fit": null,
            "grid_auto_columns": null,
            "margin": null,
            "display": null,
            "left": null
          }
        },
        "8dd25201be514fb985bb7b6d1fb5124a": {
          "model_module": "@jupyter-widgets/controls",
          "model_name": "HBoxModel",
          "state": {
            "_view_name": "HBoxView",
            "_dom_classes": [],
            "_model_name": "HBoxModel",
            "_view_module": "@jupyter-widgets/controls",
            "_model_module_version": "1.5.0",
            "_view_count": null,
            "_view_module_version": "1.5.0",
            "box_style": "",
            "layout": "IPY_MODEL_fb762136e2db4fc3bc249292774eb568",
            "_model_module": "@jupyter-widgets/controls",
            "children": [
              "IPY_MODEL_e0093d2fd2754b7084fb16bb112457d0",
              "IPY_MODEL_45bc64794c354d96b9559dda392387f6"
            ]
          }
        },
        "fb762136e2db4fc3bc249292774eb568": {
          "model_module": "@jupyter-widgets/base",
          "model_name": "LayoutModel",
          "state": {
            "_view_name": "LayoutView",
            "grid_template_rows": null,
            "right": null,
            "justify_content": null,
            "_view_module": "@jupyter-widgets/base",
            "overflow": null,
            "_model_module_version": "1.2.0",
            "_view_count": null,
            "flex_flow": null,
            "width": null,
            "min_width": null,
            "border": null,
            "align_items": null,
            "bottom": null,
            "_model_module": "@jupyter-widgets/base",
            "top": null,
            "grid_column": null,
            "overflow_y": null,
            "overflow_x": null,
            "grid_auto_flow": null,
            "grid_area": null,
            "grid_template_columns": null,
            "flex": null,
            "_model_name": "LayoutModel",
            "justify_items": null,
            "grid_row": null,
            "max_height": null,
            "align_content": null,
            "visibility": null,
            "align_self": null,
            "height": null,
            "min_height": null,
            "padding": null,
            "grid_auto_rows": null,
            "grid_gap": null,
            "max_width": null,
            "order": null,
            "_view_module_version": "1.2.0",
            "grid_template_areas": null,
            "object_position": null,
            "object_fit": null,
            "grid_auto_columns": null,
            "margin": null,
            "display": null,
            "left": null
          }
        },
        "e0093d2fd2754b7084fb16bb112457d0": {
          "model_module": "@jupyter-widgets/controls",
          "model_name": "FloatProgressModel",
          "state": {
            "_view_name": "ProgressView",
            "style": "IPY_MODEL_1320d2076142401a9380df3b28356e14",
            "_dom_classes": [],
            "description": "100%",
            "_model_name": "FloatProgressModel",
            "bar_style": "success",
            "max": 2,
            "_view_module": "@jupyter-widgets/controls",
            "_model_module_version": "1.5.0",
            "value": 2,
            "_view_count": null,
            "_view_module_version": "1.5.0",
            "orientation": "horizontal",
            "min": 0,
            "description_tooltip": null,
            "_model_module": "@jupyter-widgets/controls",
            "layout": "IPY_MODEL_cd798357ec024742aee07a0acb00cd27"
          }
        },
        "45bc64794c354d96b9559dda392387f6": {
          "model_module": "@jupyter-widgets/controls",
          "model_name": "HTMLModel",
          "state": {
            "_view_name": "HTMLView",
            "style": "IPY_MODEL_027b6bbc51a04d1cba9db3aacde8ea40",
            "_dom_classes": [],
            "description": "",
            "_model_name": "HTMLModel",
            "placeholder": "​",
            "_view_module": "@jupyter-widgets/controls",
            "_model_module_version": "1.5.0",
            "value": " 2/2 [54:37&lt;00:00, 1638.77s/it]",
            "_view_count": null,
            "_view_module_version": "1.5.0",
            "description_tooltip": null,
            "_model_module": "@jupyter-widgets/controls",
            "layout": "IPY_MODEL_0d7f660d7a3e4c31bc2b5a35564a72ce"
          }
        },
        "1320d2076142401a9380df3b28356e14": {
          "model_module": "@jupyter-widgets/controls",
          "model_name": "ProgressStyleModel",
          "state": {
            "_view_name": "StyleView",
            "_model_name": "ProgressStyleModel",
            "description_width": "initial",
            "_view_module": "@jupyter-widgets/base",
            "_model_module_version": "1.5.0",
            "_view_count": null,
            "_view_module_version": "1.2.0",
            "bar_color": null,
            "_model_module": "@jupyter-widgets/controls"
          }
        },
        "cd798357ec024742aee07a0acb00cd27": {
          "model_module": "@jupyter-widgets/base",
          "model_name": "LayoutModel",
          "state": {
            "_view_name": "LayoutView",
            "grid_template_rows": null,
            "right": null,
            "justify_content": null,
            "_view_module": "@jupyter-widgets/base",
            "overflow": null,
            "_model_module_version": "1.2.0",
            "_view_count": null,
            "flex_flow": null,
            "width": null,
            "min_width": null,
            "border": null,
            "align_items": null,
            "bottom": null,
            "_model_module": "@jupyter-widgets/base",
            "top": null,
            "grid_column": null,
            "overflow_y": null,
            "overflow_x": null,
            "grid_auto_flow": null,
            "grid_area": null,
            "grid_template_columns": null,
            "flex": null,
            "_model_name": "LayoutModel",
            "justify_items": null,
            "grid_row": null,
            "max_height": null,
            "align_content": null,
            "visibility": null,
            "align_self": null,
            "height": null,
            "min_height": null,
            "padding": null,
            "grid_auto_rows": null,
            "grid_gap": null,
            "max_width": null,
            "order": null,
            "_view_module_version": "1.2.0",
            "grid_template_areas": null,
            "object_position": null,
            "object_fit": null,
            "grid_auto_columns": null,
            "margin": null,
            "display": null,
            "left": null
          }
        },
        "027b6bbc51a04d1cba9db3aacde8ea40": {
          "model_module": "@jupyter-widgets/controls",
          "model_name": "DescriptionStyleModel",
          "state": {
            "_view_name": "StyleView",
            "_model_name": "DescriptionStyleModel",
            "description_width": "",
            "_view_module": "@jupyter-widgets/base",
            "_model_module_version": "1.5.0",
            "_view_count": null,
            "_view_module_version": "1.2.0",
            "_model_module": "@jupyter-widgets/controls"
          }
        },
        "0d7f660d7a3e4c31bc2b5a35564a72ce": {
          "model_module": "@jupyter-widgets/base",
          "model_name": "LayoutModel",
          "state": {
            "_view_name": "LayoutView",
            "grid_template_rows": null,
            "right": null,
            "justify_content": null,
            "_view_module": "@jupyter-widgets/base",
            "overflow": null,
            "_model_module_version": "1.2.0",
            "_view_count": null,
            "flex_flow": null,
            "width": null,
            "min_width": null,
            "border": null,
            "align_items": null,
            "bottom": null,
            "_model_module": "@jupyter-widgets/base",
            "top": null,
            "grid_column": null,
            "overflow_y": null,
            "overflow_x": null,
            "grid_auto_flow": null,
            "grid_area": null,
            "grid_template_columns": null,
            "flex": null,
            "_model_name": "LayoutModel",
            "justify_items": null,
            "grid_row": null,
            "max_height": null,
            "align_content": null,
            "visibility": null,
            "align_self": null,
            "height": null,
            "min_height": null,
            "padding": null,
            "grid_auto_rows": null,
            "grid_gap": null,
            "max_width": null,
            "order": null,
            "_view_module_version": "1.2.0",
            "grid_template_areas": null,
            "object_position": null,
            "object_fit": null,
            "grid_auto_columns": null,
            "margin": null,
            "display": null,
            "left": null
          }
        },
        "8e6910799f944564a5173b1947c20a82": {
          "model_module": "@jupyter-widgets/controls",
          "model_name": "HBoxModel",
          "state": {
            "_view_name": "HBoxView",
            "_dom_classes": [],
            "_model_name": "HBoxModel",
            "_view_module": "@jupyter-widgets/controls",
            "_model_module_version": "1.5.0",
            "_view_count": null,
            "_view_module_version": "1.5.0",
            "box_style": "",
            "layout": "IPY_MODEL_5145d455a3eb45728422149908073316",
            "_model_module": "@jupyter-widgets/controls",
            "children": [
              "IPY_MODEL_7e052b4df4e94ba5900081a360a8f49f",
              "IPY_MODEL_acdde62e21fe47ada54ee2ebdf5b9023"
            ]
          }
        },
        "5145d455a3eb45728422149908073316": {
          "model_module": "@jupyter-widgets/base",
          "model_name": "LayoutModel",
          "state": {
            "_view_name": "LayoutView",
            "grid_template_rows": null,
            "right": null,
            "justify_content": null,
            "_view_module": "@jupyter-widgets/base",
            "overflow": null,
            "_model_module_version": "1.2.0",
            "_view_count": null,
            "flex_flow": null,
            "width": null,
            "min_width": null,
            "border": null,
            "align_items": null,
            "bottom": null,
            "_model_module": "@jupyter-widgets/base",
            "top": null,
            "grid_column": null,
            "overflow_y": null,
            "overflow_x": null,
            "grid_auto_flow": null,
            "grid_area": null,
            "grid_template_columns": null,
            "flex": null,
            "_model_name": "LayoutModel",
            "justify_items": null,
            "grid_row": null,
            "max_height": null,
            "align_content": null,
            "visibility": null,
            "align_self": null,
            "height": null,
            "min_height": null,
            "padding": null,
            "grid_auto_rows": null,
            "grid_gap": null,
            "max_width": null,
            "order": null,
            "_view_module_version": "1.2.0",
            "grid_template_areas": null,
            "object_position": null,
            "object_fit": null,
            "grid_auto_columns": null,
            "margin": null,
            "display": null,
            "left": null
          }
        },
        "7e052b4df4e94ba5900081a360a8f49f": {
          "model_module": "@jupyter-widgets/controls",
          "model_name": "FloatProgressModel",
          "state": {
            "_view_name": "ProgressView",
            "style": "IPY_MODEL_04ccf78bc9c04f4888b63d815d67cfc9",
            "_dom_classes": [],
            "description": "100%",
            "_model_name": "FloatProgressModel",
            "bar_style": "success",
            "max": 2,
            "_view_module": "@jupyter-widgets/controls",
            "_model_module_version": "1.5.0",
            "value": 2,
            "_view_count": null,
            "_view_module_version": "1.5.0",
            "orientation": "horizontal",
            "min": 0,
            "description_tooltip": null,
            "_model_module": "@jupyter-widgets/controls",
            "layout": "IPY_MODEL_ec39615d542f43bc9e0fe148d117fd50"
          }
        },
        "acdde62e21fe47ada54ee2ebdf5b9023": {
          "model_module": "@jupyter-widgets/controls",
          "model_name": "HTMLModel",
          "state": {
            "_view_name": "HTMLView",
            "style": "IPY_MODEL_5c98e2687e3e4b5aa44eb4a6d087c597",
            "_dom_classes": [],
            "description": "",
            "_model_name": "HTMLModel",
            "placeholder": "​",
            "_view_module": "@jupyter-widgets/controls",
            "_model_module_version": "1.5.0",
            "value": " 2/2 [05:13&lt;00:00, 156.72s/it]",
            "_view_count": null,
            "_view_module_version": "1.5.0",
            "description_tooltip": null,
            "_model_module": "@jupyter-widgets/controls",
            "layout": "IPY_MODEL_f9f9266a051d49d7b2009248010a04dc"
          }
        },
        "04ccf78bc9c04f4888b63d815d67cfc9": {
          "model_module": "@jupyter-widgets/controls",
          "model_name": "ProgressStyleModel",
          "state": {
            "_view_name": "StyleView",
            "_model_name": "ProgressStyleModel",
            "description_width": "initial",
            "_view_module": "@jupyter-widgets/base",
            "_model_module_version": "1.5.0",
            "_view_count": null,
            "_view_module_version": "1.2.0",
            "bar_color": null,
            "_model_module": "@jupyter-widgets/controls"
          }
        },
        "ec39615d542f43bc9e0fe148d117fd50": {
          "model_module": "@jupyter-widgets/base",
          "model_name": "LayoutModel",
          "state": {
            "_view_name": "LayoutView",
            "grid_template_rows": null,
            "right": null,
            "justify_content": null,
            "_view_module": "@jupyter-widgets/base",
            "overflow": null,
            "_model_module_version": "1.2.0",
            "_view_count": null,
            "flex_flow": null,
            "width": null,
            "min_width": null,
            "border": null,
            "align_items": null,
            "bottom": null,
            "_model_module": "@jupyter-widgets/base",
            "top": null,
            "grid_column": null,
            "overflow_y": null,
            "overflow_x": null,
            "grid_auto_flow": null,
            "grid_area": null,
            "grid_template_columns": null,
            "flex": null,
            "_model_name": "LayoutModel",
            "justify_items": null,
            "grid_row": null,
            "max_height": null,
            "align_content": null,
            "visibility": null,
            "align_self": null,
            "height": null,
            "min_height": null,
            "padding": null,
            "grid_auto_rows": null,
            "grid_gap": null,
            "max_width": null,
            "order": null,
            "_view_module_version": "1.2.0",
            "grid_template_areas": null,
            "object_position": null,
            "object_fit": null,
            "grid_auto_columns": null,
            "margin": null,
            "display": null,
            "left": null
          }
        },
        "5c98e2687e3e4b5aa44eb4a6d087c597": {
          "model_module": "@jupyter-widgets/controls",
          "model_name": "DescriptionStyleModel",
          "state": {
            "_view_name": "StyleView",
            "_model_name": "DescriptionStyleModel",
            "description_width": "",
            "_view_module": "@jupyter-widgets/base",
            "_model_module_version": "1.5.0",
            "_view_count": null,
            "_view_module_version": "1.2.0",
            "_model_module": "@jupyter-widgets/controls"
          }
        },
        "f9f9266a051d49d7b2009248010a04dc": {
          "model_module": "@jupyter-widgets/base",
          "model_name": "LayoutModel",
          "state": {
            "_view_name": "LayoutView",
            "grid_template_rows": null,
            "right": null,
            "justify_content": null,
            "_view_module": "@jupyter-widgets/base",
            "overflow": null,
            "_model_module_version": "1.2.0",
            "_view_count": null,
            "flex_flow": null,
            "width": null,
            "min_width": null,
            "border": null,
            "align_items": null,
            "bottom": null,
            "_model_module": "@jupyter-widgets/base",
            "top": null,
            "grid_column": null,
            "overflow_y": null,
            "overflow_x": null,
            "grid_auto_flow": null,
            "grid_area": null,
            "grid_template_columns": null,
            "flex": null,
            "_model_name": "LayoutModel",
            "justify_items": null,
            "grid_row": null,
            "max_height": null,
            "align_content": null,
            "visibility": null,
            "align_self": null,
            "height": null,
            "min_height": null,
            "padding": null,
            "grid_auto_rows": null,
            "grid_gap": null,
            "max_width": null,
            "order": null,
            "_view_module_version": "1.2.0",
            "grid_template_areas": null,
            "object_position": null,
            "object_fit": null,
            "grid_auto_columns": null,
            "margin": null,
            "display": null,
            "left": null
          }
        }
      }
    }
  },
  "cells": [
    {
      "cell_type": "markdown",
      "metadata": {
        "id": "view-in-github",
        "colab_type": "text"
      },
      "source": [
        "<a href=\"https://colab.research.google.com/github/TaoM1992/gh-exercise/blob/master/hw1.ipynb\" target=\"_parent\"><img src=\"https://colab.research.google.com/assets/colab-badge.svg\" alt=\"Open In Colab\"/></a>"
      ]
    },
    {
      "cell_type": "markdown",
      "metadata": {
        "id": "RADL3uueRmLx"
      },
      "source": [
        "# Homework 1\n",
        "#### Shiqi Tao"
      ]
    },
    {
      "cell_type": "code",
      "metadata": {
        "id": "H_SsFBuDRhwf"
      },
      "source": [
        "import pandas as pd\n",
        "\n",
        "import torch\n",
        "from torch.utils.data import Dataset\n",
        "from torch.utils.data import DataLoader\n",
        "import torch.nn as nn\n",
        "import torch.optim as optim\n",
        "from tqdm.notebook import tqdm\n",
        "import torch.nn.functional as F"
      ],
      "execution_count": 48,
      "outputs": []
    },
    {
      "cell_type": "code",
      "metadata": {
        "id": "g3d46XnYRpol"
      },
      "source": [
        "train = pd.read_csv('book_ratings_train_v2.csv')\n",
        "test = pd.read_csv('book_ratings_test_v2.csv')"
      ],
      "execution_count": 49,
      "outputs": []
    },
    {
      "cell_type": "code",
      "metadata": {
        "colab": {
          "base_uri": "https://localhost:8080/"
        },
        "id": "UMHYfOTpSgip",
        "outputId": "16884d4c-8a6f-4cab-eb49-60e8c938eecb"
      },
      "source": [
        "train.shape, test.shape"
      ],
      "execution_count": 50,
      "outputs": [
        {
          "output_type": "execute_result",
          "data": {
            "text/plain": [
              "((682295, 20), (29877, 20))"
            ]
          },
          "metadata": {
            "tags": []
          },
          "execution_count": 50
        }
      ]
    },
    {
      "cell_type": "markdown",
      "metadata": {
        "id": "g617a6aqSluL"
      },
      "source": [
        "#### 1. First create a dictionary for users and books, then do the following."
      ]
    },
    {
      "cell_type": "code",
      "metadata": {
        "id": "iSkra9QVSgtN"
      },
      "source": [
        "user = train.user_id.unique()\n",
        "book = train.isbn.unique()\n",
        "\n",
        "user_dic = dict()\n",
        "for i,u in enumerate(user):\n",
        "    user_dic[u] = i \n",
        "\n",
        "book_dic = dict()\n",
        "for i,b in enumerate(book):\n",
        "    book_dic[b] = i "
      ],
      "execution_count": 51,
      "outputs": []
    },
    {
      "cell_type": "code",
      "metadata": {
        "id": "gjoqieCzSgv8"
      },
      "source": [
        "num_users, num_books = len(user), len(book_dic)"
      ],
      "execution_count": 52,
      "outputs": []
    },
    {
      "cell_type": "code",
      "metadata": {
        "id": "ECLj0w6rKvAa"
      },
      "source": [
        "for id in test.user_id.unique():\n",
        "  if id not in user:\n",
        "    test = test.drop(test[test.user_id==id].index)"
      ],
      "execution_count": 53,
      "outputs": []
    },
    {
      "cell_type": "code",
      "metadata": {
        "id": "oaPWQMP6Ljv1"
      },
      "source": [
        "for b in test.isbn.unique():\n",
        "  if b not in book:\n",
        "    test = test.drop(test[test.isbn==b].index)"
      ],
      "execution_count": 54,
      "outputs": []
    },
    {
      "cell_type": "markdown",
      "metadata": {
        "id": "lPHl99ILSxGL"
      },
      "source": [
        "- Create a DataSet class that outputs the user and book indices in a single tensor (in preparation for input into an nn.Embedding layer) and another tensor with the book rating."
      ]
    },
    {
      "cell_type": "code",
      "metadata": {
        "id": "W6nNCIL2Sgyl"
      },
      "source": [
        "class RatingDataset(Dataset):\n",
        "    def __init__(self, df):\n",
        "        self.df = df\n",
        "    \n",
        "    def __len__(self):\n",
        "        return len(self.df)\n",
        "    \n",
        "    def __getitem__(self, idx):\n",
        "        row = self.df.iloc[idx]\n",
        "        user_idx = user_dic[row['user_id']]\n",
        "        book_idx = book_dic[row['isbn']]\n",
        "        \n",
        "        x1 = torch.tensor(user_idx)\n",
        "        x2 = torch.tensor(book_idx)\n",
        "        \n",
        "        y = torch.tensor(row['rating']).float()\n",
        "        y_bin = torch.tensor(row['rating']>4).float()\n",
        "        \n",
        "        return x1, x2, y, y_bin"
      ],
      "execution_count": 55,
      "outputs": []
    },
    {
      "cell_type": "markdown",
      "metadata": {
        "id": "O5nawj5uS2k0"
      },
      "source": [
        "- Create a DataLoader for the training data and the test data."
      ]
    },
    {
      "cell_type": "code",
      "metadata": {
        "id": "_7MQSS7ySg1H"
      },
      "source": [
        "rating_train_ds = RatingDataset(train)\n",
        "rating_train_dl = DataLoader(rating_train_ds, batch_size=1000, shuffle=True)"
      ],
      "execution_count": 56,
      "outputs": []
    },
    {
      "cell_type": "code",
      "metadata": {
        "id": "V5LvRtnpSg30"
      },
      "source": [
        "rating_test_ds = RatingDataset(test)\n",
        "rating_test_dl = DataLoader(rating_test_ds, batch_size=1000, shuffle=True)"
      ],
      "execution_count": 57,
      "outputs": []
    },
    {
      "cell_type": "markdown",
      "metadata": {
        "id": "89fmSKegS-IZ"
      },
      "source": [
        "#### 2. Create three different classes of models using nn.Module. You will need a second DataSet class for the third model.\n",
        "\n",
        "- A model which predicts the rating a user will give to a book using Matrix Factorization (similar to what you did before in Dr. Interian’s course)"
      ]
    },
    {
      "cell_type": "code",
      "metadata": {
        "id": "YvlMZ8E8S7jb"
      },
      "source": [
        "class MF_rating_v1(nn.Module):\n",
        "    def __init__(self, num_users, num_books, emb_size=50):\n",
        "        super(MF_rating_v1, self).__init__()\n",
        "        self.user_emb = nn.Embedding(num_users, emb_size)\n",
        "        self.book_emb = nn.Embedding(num_books, emb_size)\n",
        "        # initlializing weights\n",
        "        self.user_emb.weight.data.uniform_(0,0.05)\n",
        "        self.book_emb.weight.data.uniform_(0,0.05)\n",
        "        \n",
        "    def forward(self, u, b):\n",
        "        u = self.user_emb(u)\n",
        "        b = self.book_emb(b)\n",
        "        return (u*b).sum(1)   "
      ],
      "execution_count": 58,
      "outputs": []
    },
    {
      "cell_type": "markdown",
      "metadata": {
        "id": "qlxoEBSNTDxv"
      },
      "source": [
        "- A model which predicts the rating a user will give to a book by embedding both the book and the user as 50-dimensional features, followed by a linear layers (Hint: it will look like nn.Linear(100, 1))."
      ]
    },
    {
      "cell_type": "code",
      "metadata": {
        "id": "F_83CiUJS7nY"
      },
      "source": [
        "class MF_rating_v2(nn.Module):\n",
        "    def __init__(self, num_users, num_books, emb_size=50):\n",
        "        super(MF_rating_v2, self).__init__()\n",
        "        self.user_emb = nn.Embedding(num_users, emb_size)\n",
        "        self.book_emb = nn.Embedding(num_books, emb_size)\n",
        "        # initlializing weights\n",
        "        self.user_emb.weight.data.uniform_(0,0.05)\n",
        "        self.book_emb.weight.data.uniform_(0,0.05)\n",
        "        self.linear = nn.Linear(emb_size * 2, 1)\n",
        "        \n",
        "    def forward(self, u, v):\n",
        "        u = self.user_emb(u)\n",
        "        v = self.book_emb(v)\n",
        "        x = torch.cat((u, v), dim=1)\n",
        "        x = self.linear(x)\n",
        "        return torch.squeeze(x)"
      ],
      "execution_count": 59,
      "outputs": []
    },
    {
      "cell_type": "markdown",
      "metadata": {
        "id": "-BVMDLgWTIRv"
      },
      "source": [
        "- A model which predicts the rating a user will give to a book by embedding both the book and the user in some feature space (dimension up to you) and by including at least two other features from the dataset (such as age, location, year of publication, etc.). Note that for categorical variables you will need to use more embedding layers! Feel free to use any techniques we learned last week in this model."
      ]
    },
    {
      "cell_type": "code",
      "metadata": {
        "id": "ityw0Q94S7qX"
      },
      "source": [
        "age = train.age.unique()\n",
        "yp = train.year_of_publication.unique()\n",
        "\n",
        "age_dic = dict()\n",
        "for i,a in enumerate(age):\n",
        "    age_dic[a] = i \n",
        "\n",
        "yp_dic = dict()\n",
        "for i,y in enumerate(yp):\n",
        "    yp_dic[y] = i "
      ],
      "execution_count": 60,
      "outputs": []
    },
    {
      "cell_type": "code",
      "metadata": {
        "id": "4zhga9MYS7tK"
      },
      "source": [
        "num_age, num_yp = len(age), len(yp)"
      ],
      "execution_count": 61,
      "outputs": []
    },
    {
      "cell_type": "code",
      "metadata": {
        "colab": {
          "base_uri": "https://localhost:8080/"
        },
        "id": "yh_n7LxQQ4bR",
        "outputId": "c5993433-b3e3-4f5c-95c6-7514876aa232"
      },
      "source": [
        "num_age, num_yp"
      ],
      "execution_count": 62,
      "outputs": [
        {
          "output_type": "execute_result",
          "data": {
            "text/plain": [
              "(85, 79)"
            ]
          },
          "metadata": {
            "tags": []
          },
          "execution_count": 62
        }
      ]
    },
    {
      "cell_type": "code",
      "metadata": {
        "id": "OOZPZdcyS7v4"
      },
      "source": [
        "class RatingDataset_v2(Dataset):\n",
        "    def __init__(self, df):\n",
        "        self.df = df\n",
        "    \n",
        "    def __len__(self):\n",
        "        return len(self.df)\n",
        "    \n",
        "    def __getitem__(self, idx):\n",
        "        row = self.df.iloc[idx]\n",
        "        user_idx = user_dic[row['user_id']]\n",
        "        book_idx = book_dic[row['isbn']]\n",
        "        age_idx = age_dic[row['age']]\n",
        "        yp_idx = yp_dic[row['year_of_publication']]\n",
        "        \n",
        "        x1 = torch.tensor(user_idx)\n",
        "        x2 = torch.tensor(book_idx)\n",
        "        x3 = torch.tensor(age_idx)\n",
        "        x4 = torch.tensor(yp_idx)\n",
        "        \n",
        "        y = torch.tensor(row['rating']).float()\n",
        "        y_bin = torch.tensor(row['rating']>4).float()\n",
        "        return x1, x2, x3, x4, y, y_bin"
      ],
      "execution_count": 63,
      "outputs": []
    },
    {
      "cell_type": "code",
      "metadata": {
        "id": "NKZ1YEgSS7yf"
      },
      "source": [
        "class MF_rating_v3(nn.Module):\n",
        "    def __init__(self, num_users, num_books, num_age, num_yp, emb_size=50):\n",
        "        super(MF_rating_v3, self).__init__()\n",
        "        self.user_emb = nn.Embedding(num_users, emb_size)\n",
        "        self.book_emb = nn.Embedding(num_books, emb_size)\n",
        "        self.age_emb = nn.Embedding(num_age, emb_size)\n",
        "        self.yp_emb = nn.Embedding(num_yp, emb_size)\n",
        "        # initlializing weights\n",
        "        self.user_emb.weight.data.uniform_(0,0.05)\n",
        "        self.book_emb.weight.data.uniform_(0,0.05)\n",
        "        self.linear = nn.Linear(emb_size * 4, 1)\n",
        "        \n",
        "    def forward(self, u, v, a, yp):\n",
        "        u = self.user_emb(u)\n",
        "        v = self.book_emb(v)\n",
        "        a = self.age_emb(a)\n",
        "        yp = self.yp_emb(yp)\n",
        "        x = torch.cat((u, v, a, yp), dim=1)\n",
        "        x = self.linear(x)\n",
        "        return torch.squeeze(x)"
      ],
      "execution_count": 64,
      "outputs": []
    },
    {
      "cell_type": "markdown",
      "metadata": {
        "id": "82cDCIcgTV3X"
      },
      "source": [
        "#### 3. Initialize each of the three models and pass one batch through them to make sure they are working properly.\n",
        "- MF_rating_v1"
      ]
    },
    {
      "cell_type": "code",
      "metadata": {
        "colab": {
          "base_uri": "https://localhost:8080/"
        },
        "id": "274a7lt-TTRg",
        "outputId": "c7ae43c8-7bac-44ce-f6ce-1151ed4aebb8"
      },
      "source": [
        "u, b, y, y_bin = next(iter(rating_train_dl))\n",
        "m1 = MF_rating_v1(num_users, num_books)\n",
        "optimizer = optim.Adam(m1.parameters(), lr = 0.01)\n",
        "\n",
        "\n",
        "y_pred = m1(u, b)\n",
        "nn.MSELoss()(y_pred, y)"
      ],
      "execution_count": 65,
      "outputs": [
        {
          "output_type": "execute_result",
          "data": {
            "text/plain": [
              "tensor(20.5126, grad_fn=<MseLossBackward>)"
            ]
          },
          "metadata": {
            "tags": []
          },
          "execution_count": 65
        }
      ]
    },
    {
      "cell_type": "markdown",
      "metadata": {
        "id": "hZyfjkhyTdhp"
      },
      "source": [
        "- MF_rating_v2"
      ]
    },
    {
      "cell_type": "code",
      "metadata": {
        "colab": {
          "base_uri": "https://localhost:8080/"
        },
        "id": "hw6x_6YtTTUT",
        "outputId": "86f8f8ab-82ed-43a7-9df4-7654720e5258"
      },
      "source": [
        "u, b, y, y_bin = next(iter(rating_train_dl))\n",
        "m2 = MF_rating_v2(num_users, num_books)\n",
        "optimizer = optim.Adam(m2.parameters(), lr = 0.01)\n",
        "\n",
        "\n",
        "y_pred = m2.forward(u, b)\n",
        "nn.MSELoss()(y_pred, y)"
      ],
      "execution_count": 66,
      "outputs": [
        {
          "output_type": "execute_result",
          "data": {
            "text/plain": [
              "tensor(20.7266, grad_fn=<MseLossBackward>)"
            ]
          },
          "metadata": {
            "tags": []
          },
          "execution_count": 66
        }
      ]
    },
    {
      "cell_type": "markdown",
      "metadata": {
        "id": "BAHQCUMpTkC4"
      },
      "source": [
        "- MF_rating_v3"
      ]
    },
    {
      "cell_type": "code",
      "metadata": {
        "id": "n-0hfAtvTTXb"
      },
      "source": [
        "rating_train_ds_v2 = RatingDataset_v2(train)\n",
        "rating_train_dl_v2 = DataLoader(rating_train_ds_v2, batch_size=1000, shuffle=True)"
      ],
      "execution_count": 67,
      "outputs": []
    },
    {
      "cell_type": "code",
      "metadata": {
        "id": "gtjCge3Dw4MX"
      },
      "source": [
        "rating_test_ds_v2 = RatingDataset_v2(test)\n",
        "rating_test_dl_v2 = DataLoader(rating_test_ds_v2, batch_size=1000, shuffle=True)"
      ],
      "execution_count": 76,
      "outputs": []
    },
    {
      "cell_type": "code",
      "metadata": {
        "colab": {
          "base_uri": "https://localhost:8080/"
        },
        "id": "F7yU_kn9TTZ-",
        "outputId": "f6e640df-6ad9-46b2-c351-22e90e826cef"
      },
      "source": [
        "u, b, a, yp, y, y_bin = next(iter(rating_train_dl_v2))\n",
        "m3 = MF_rating_v3(num_users, num_books, num_age, num_yp)\n",
        "optimizer = optim.Adam(m3.parameters(), lr = 0.01)\n",
        "\n",
        "\n",
        "y_pred = m3.forward(u, b, a, yp)\n",
        "nn.MSELoss()(y_pred, y)"
      ],
      "execution_count": 68,
      "outputs": [
        {
          "output_type": "execute_result",
          "data": {
            "text/plain": [
              "tensor(20.0090, grad_fn=<MseLossBackward>)"
            ]
          },
          "metadata": {
            "tags": []
          },
          "execution_count": 68
        }
      ]
    },
    {
      "cell_type": "markdown",
      "metadata": {
        "id": "t7roukNGTqbu"
      },
      "source": [
        "4. Train each of the models for this regression task using an appropriate Loss function for at least two epochs. At the end of each epoch, print the accuracy of your model in predicting whether a user will rate a book as “good” (rating above 4) or as “bad” (rating 4 or below) for both the training and test sets.\n",
        "\n",
        "- For context, I achieved around 57% percent accuracy on the test set after 5 epochs and 20 minutes on my laptop using the second model. I used a batch size of 10000 and Adam optimization with a learning rate of 0.01."
      ]
    },
    {
      "cell_type": "markdown",
      "metadata": {
        "id": "vLTj5R_PTr1o"
      },
      "source": [
        "- You will not be graded on model performance, just being able to train the model and print the accuracy. The dataset is rather large, so if you are interested in pushing the performance and trying other methods I suggest using Google Colab or Kaggle GPUs."
      ]
    },
    {
      "cell_type": "markdown",
      "metadata": {
        "id": "YT_c7cChXJN6"
      },
      "source": [
        "- MF_rating_v1"
      ]
    },
    {
      "cell_type": "code",
      "metadata": {
        "colab": {
          "base_uri": "https://localhost:8080/",
          "height": 99,
          "referenced_widgets": [
            "3edf297325a94f44a35bec180b62be98",
            "d707b1aedfd34c05bdf77ab65d0571b3",
            "68ace629197b48c3af10918f00f99f4a",
            "05bfe24e902a42a39580f1ed57076163",
            "4376faa0efab4cffbee25ae0c80ba70e",
            "0c2ca39b92ed4c2b9f3c4b204ca1c248",
            "770d67b8245e4ef6bea41ff7a293db9c",
            "167b96626b5042fc9bb80bba7f497ee9"
          ]
        },
        "id": "Xe64Xo2nTTdE",
        "outputId": "2b7d5472-ce8b-4518-d21c-207e43c26de1"
      },
      "source": [
        "m1 = MF_rating_v1(num_users, num_books)\n",
        "optimizer = optim.Adam(m1.parameters(), lr = 0.001)\n",
        "\n",
        "for epoch in tqdm(range(2)):\n",
        "    total_loss = 0.0\n",
        "    total_correct = 0\n",
        "    total = 0\n",
        "    m1.train()\n",
        "    for u, b, y, y_bin in rating_train_dl:      \n",
        "        y_hat = m1(u, b)\n",
        "        #print(y_hat,y)\n",
        "        loss = nn.MSELoss()(y_hat, y)\n",
        "        optimizer.zero_grad()\n",
        "        loss.backward()\n",
        "        optimizer.step()\n",
        "        total_loss += u.size(0)*loss.item()\n",
        "        total += u.size(0)\n",
        "    train_loss = total_loss/total\n",
        "\n",
        "    for u, b, y, y_bin in rating_test_dl:\n",
        "        m1.eval()\n",
        "        y_hat = m1(u, b)\n",
        "        loss = nn.MSELoss()(y_hat, y)\n",
        "        y_pred = (y_hat > 4).long()\n",
        "        correct = (y_pred.float() == y_bin).float().sum()\n",
        "        val_accuracy = correct/y_pred.shape[0]\n",
        "        val_loss = loss.item()\n",
        "    print(\"train_loss %.3f val_loss %.3f val_accuracy %.3f\" % (train_loss, val_loss, val_accuracy)) "
      ],
      "execution_count": 71,
      "outputs": [
        {
          "output_type": "display_data",
          "data": {
            "application/vnd.jupyter.widget-view+json": {
              "model_id": "3edf297325a94f44a35bec180b62be98",
              "version_minor": 0,
              "version_major": 2
            },
            "text/plain": [
              "HBox(children=(FloatProgress(value=0.0, max=2.0), HTML(value='')))"
            ]
          },
          "metadata": {
            "tags": []
          }
        },
        {
          "output_type": "stream",
          "text": [
            "train_loss 19.403 val_loss 25.872 val_accuracy 0.535\n",
            "train_loss 15.784 val_loss 19.306 val_accuracy 0.577\n",
            "\n"
          ],
          "name": "stdout"
        }
      ]
    },
    {
      "cell_type": "markdown",
      "metadata": {
        "id": "nX6k3aTyXONL"
      },
      "source": [
        "- MF_rating_v2"
      ]
    },
    {
      "cell_type": "markdown",
      "metadata": {
        "id": "gxDVHOuDkIgZ"
      },
      "source": [
        ""
      ]
    },
    {
      "cell_type": "code",
      "metadata": {
        "colab": {
          "base_uri": "https://localhost:8080/",
          "height": 99,
          "referenced_widgets": [
            "c6014aa83582410ba01653774ece036e",
            "d5af5683ebcc407b9b635db891f16c3e",
            "fb6ecc173e584f5991560751b5123678",
            "f18b2cd866e749f2af7e4cc15565d96a",
            "5f9774e5c54549a88ee2ec43f53a6f74",
            "e7ec166f4dfa41c0a955fae4d7449234",
            "3d1025501c9b4a5a943278923e3efec1",
            "362bf1387a4d42b39342ca5a88c85702"
          ]
        },
        "id": "OJTV6ClPTuPY",
        "outputId": "a7b5a3d6-1a30-4f2c-c33d-4622a8808962"
      },
      "source": [
        "m2 = MF_rating_v1(num_users, num_books)\n",
        "optimizer = optim.Adam(m2.parameters(), lr = 0.001)\n",
        "\n",
        "for epoch in tqdm(range(2)):\n",
        "    total_loss = 0.0\n",
        "    total_correct = 0\n",
        "    total = 0\n",
        "    m2.train()\n",
        "    for u, b, y, y_bin in rating_train_dl:      \n",
        "        y_hat = m2(u, b)\n",
        "        #print(y_hat,y)\n",
        "        loss = nn.MSELoss()(y_hat, y)\n",
        "        optimizer.zero_grad()\n",
        "        loss.backward()\n",
        "        optimizer.step()\n",
        "        total_loss += u.size(0)*loss.item()\n",
        "        total += u.size(0)\n",
        "    train_loss = total_loss/total\n",
        "\n",
        "    for u, b, y, y_bin in rating_test_dl:\n",
        "        m2.eval()\n",
        "        y_hat = m2(u, b)\n",
        "        loss = nn.MSELoss()(y_hat, y)\n",
        "        y_pred = (y_hat > 4).long()\n",
        "        #print(y_pred_)\n",
        "        correct = (y_pred.float() == y_bin).float().sum()\n",
        "        val_accuracy = correct/y_pred.shape[0]\n",
        "        val_loss = loss.item()\n",
        "    print(\"train_loss %.3f val_loss %.3f val_accuracy %.3f\" % (train_loss, val_loss, val_accuracy)) "
      ],
      "execution_count": 72,
      "outputs": [
        {
          "output_type": "display_data",
          "data": {
            "application/vnd.jupyter.widget-view+json": {
              "model_id": "c6014aa83582410ba01653774ece036e",
              "version_minor": 0,
              "version_major": 2
            },
            "text/plain": [
              "HBox(children=(FloatProgress(value=0.0, max=2.0), HTML(value='')))"
            ]
          },
          "metadata": {
            "tags": []
          }
        },
        {
          "output_type": "stream",
          "text": [
            "train_loss 19.403 val_loss 25.733 val_accuracy 0.536\n",
            "train_loss 15.786 val_loss 20.381 val_accuracy 0.568\n",
            "\n"
          ],
          "name": "stdout"
        }
      ]
    },
    {
      "cell_type": "markdown",
      "metadata": {
        "id": "hHPApkgFXRQj"
      },
      "source": [
        "- MF_rating_v3"
      ]
    },
    {
      "cell_type": "code",
      "metadata": {
        "colab": {
          "base_uri": "https://localhost:8080/",
          "height": 99,
          "referenced_widgets": [
            "8dd25201be514fb985bb7b6d1fb5124a",
            "fb762136e2db4fc3bc249292774eb568",
            "e0093d2fd2754b7084fb16bb112457d0",
            "45bc64794c354d96b9559dda392387f6",
            "1320d2076142401a9380df3b28356e14",
            "cd798357ec024742aee07a0acb00cd27",
            "027b6bbc51a04d1cba9db3aacde8ea40",
            "0d7f660d7a3e4c31bc2b5a35564a72ce"
          ]
        },
        "id": "9FTVn--wXQmK",
        "outputId": "8332f992-334d-48bb-d77e-15ad706d6ccc"
      },
      "source": [
        "m3 = MF_rating_v3(num_users, num_books, num_age, num_yp)\n",
        "optimizer = optim.Adam(m3.parameters(), lr = 0.001)\n",
        "\n",
        "for epoch in tqdm(range(2)):\n",
        "    total_loss = 0.0\n",
        "    total_correct = 0\n",
        "    total = 0\n",
        "    m3.train()\n",
        "    for u, b, a, yp, y, y_bin in rating_train_dl_v2:      \n",
        "        y_hat = m3(u, b, a, yp)\n",
        "        #print(y_hat,y)\n",
        "        loss = nn.MSELoss()(y_hat, y)\n",
        "        optimizer.zero_grad()\n",
        "        loss.backward()\n",
        "        optimizer.step()\n",
        "        total_loss += u.size(0)*loss.item()\n",
        "        total += u.size(0)\n",
        "    train_loss = total_loss/total\n",
        "\n",
        "    for u, b, a, yp, y, y_bin in rating_test_dl_v2:\n",
        "        m3.eval()\n",
        "        y_hat = m3(u, b, a, yp)\n",
        "        loss = nn.MSELoss()(y_hat, y)\n",
        "        y_pred = (y_hat > 4).long()\n",
        "        #print(y_pred_)\n",
        "        correct = (y_pred.float() == y_bin).float().sum()\n",
        "        val_accuracy = correct/y_pred.shape[0]\n",
        "        val_loss = loss.item()\n",
        "    print(\"train_loss %.3f val_loss %.3f val_accuracy %.3f\" % (train_loss, val_loss, val_accuracy)) "
      ],
      "execution_count": 77,
      "outputs": [
        {
          "output_type": "display_data",
          "data": {
            "application/vnd.jupyter.widget-view+json": {
              "model_id": "8dd25201be514fb985bb7b6d1fb5124a",
              "version_minor": 0,
              "version_major": 2
            },
            "text/plain": [
              "HBox(children=(FloatProgress(value=0.0, max=2.0), HTML(value='')))"
            ]
          },
          "metadata": {
            "tags": []
          }
        },
        {
          "output_type": "stream",
          "text": [
            "train_loss 12.696 val_loss 12.146 val_accuracy 0.700\n",
            "train_loss 10.327 val_loss 10.743 val_accuracy 0.752\n",
            "\n"
          ],
          "name": "stdout"
        }
      ]
    },
    {
      "cell_type": "markdown",
      "metadata": {
        "id": "HVCb4_6mTxFH"
      },
      "source": [
        "5. Pick one of the model architecture and use it directly predict whether a user will rate a book as “good” or “bad” (rather than through regression onto the rating). Constrast with the accuracy you obtained in the previous problem."
      ]
    },
    {
      "cell_type": "code",
      "metadata": {
        "colab": {
          "base_uri": "https://localhost:8080/",
          "height": 99,
          "referenced_widgets": [
            "8e6910799f944564a5173b1947c20a82",
            "5145d455a3eb45728422149908073316",
            "7e052b4df4e94ba5900081a360a8f49f",
            "acdde62e21fe47ada54ee2ebdf5b9023",
            "04ccf78bc9c04f4888b63d815d67cfc9",
            "ec39615d542f43bc9e0fe148d117fd50",
            "5c98e2687e3e4b5aa44eb4a6d087c597",
            "f9f9266a051d49d7b2009248010a04dc"
          ]
        },
        "id": "zlGyQh5hTuYK",
        "outputId": "4080f3e6-ccb1-420a-953e-26102fae8fad"
      },
      "source": [
        "m1 = MF_rating_v1(num_users, num_books)\n",
        "optimizer = optim.Adam(m1.parameters(), lr = 0.001)\n",
        "\n",
        "for epoch in tqdm(range(2)):\n",
        "    total_loss = 0.0\n",
        "    total_correct = 0\n",
        "    total = 0\n",
        "    m1.train()\n",
        "    for u, b, y, y_bin in rating_train_dl:      \n",
        "        y_hat = m1(u, b)\n",
        "        #print(y_hat,y)\n",
        "        loss = F.binary_cross_entropy_with_logits(y_hat, y)\n",
        "        optimizer.zero_grad()\n",
        "        loss.backward()\n",
        "        optimizer.step()\n",
        "        total_loss += u.size(0)*loss.item()\n",
        "        total += u.size(0)\n",
        "    train_loss = total_loss/total\n",
        "\n",
        "    for u, b, y, y_bin in rating_test_dl:\n",
        "        m1.eval()\n",
        "        y_hat = m1(u, b)\n",
        "        loss = F.binary_cross_entropy_with_logits(y_hat, y_bin)\n",
        "        y_pred = (y_hat > 0).float()\n",
        "        correct = (y_pred.float() == y_bin).float().sum()\n",
        "        val_accuracy = correct/y_pred.shape[0]\n",
        "        val_loss = loss.item()\n",
        "    print(\"train_loss %.3f val_loss %.3f val_accuracy %.3f\" % (train_loss, val_loss, val_accuracy)) "
      ],
      "execution_count": 78,
      "outputs": [
        {
          "output_type": "display_data",
          "data": {
            "application/vnd.jupyter.widget-view+json": {
              "model_id": "8e6910799f944564a5173b1947c20a82",
              "version_minor": 0,
              "version_major": 2
            },
            "text/plain": [
              "HBox(children=(FloatProgress(value=0.0, max=2.0), HTML(value='')))"
            ]
          },
          "metadata": {
            "tags": []
          }
        },
        {
          "output_type": "stream",
          "text": [
            "train_loss 0.034 val_loss 0.704 val_accuracy 0.571\n",
            "train_loss -3.279 val_loss 0.963 val_accuracy 0.585\n",
            "\n"
          ],
          "name": "stdout"
        }
      ]
    },
    {
      "cell_type": "code",
      "metadata": {
        "id": "IOTBhsGpTuag"
      },
      "source": [
        ""
      ],
      "execution_count": null,
      "outputs": []
    }
  ]
}